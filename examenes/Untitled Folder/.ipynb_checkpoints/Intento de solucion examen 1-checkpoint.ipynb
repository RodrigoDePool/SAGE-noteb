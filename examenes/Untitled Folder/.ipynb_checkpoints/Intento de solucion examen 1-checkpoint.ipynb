{
 "cells": [
  {
   "cell_type": "markdown",
   "metadata": {},
   "source": [
    "Ejercicio1:\n",
    "   "
   ]
  },
  {
   "cell_type": "code",
   "execution_count": 1,
   "metadata": {
    "collapsed": true
   },
   "outputs": [],
   "source": [
    "def perfecto(n):\n",
    "    x=1\n",
    "    for i in srange(1,n+1):\n",
    "        if(n%i==0):\n",
    "            x=x*i \n",
    "    if(x==n*n):\n",
    "        return True\n",
    "    else:\n",
    "        return False\n",
    "    "
   ]
  },
  {
   "cell_type": "code",
   "execution_count": 2,
   "metadata": {
    "collapsed": false
   },
   "outputs": [],
   "source": [
    "def perfectos(n):\n",
    "    L=[]\n",
    "    for i in srange(1,n+1):\n",
    "        if(perfecto(i)==True):\n",
    "            L.append(i)\n",
    "    return L"
   ]
  },
  {
   "cell_type": "code",
   "execution_count": null,
   "metadata": {
    "collapsed": false
   },
   "outputs": [],
   "source": []
  },
  {
   "cell_type": "markdown",
   "metadata": {},
   "source": [
    "Un numero es multiplicativamente perfecto si y solo si es producto de dos primos distintos o es un primo elevado al cubo"
   ]
  },
  {
   "cell_type": "code",
   "execution_count": 3,
   "metadata": {
    "collapsed": false
   },
   "outputs": [],
   "source": [
    "'''Devuelve true si un numero es producto de dos primos distintos'''\n",
    "def prod2primes(a):\n",
    "    L=[-1,-1]\n",
    "    i=2\n",
    "    cont=0\n",
    "    while (L[1]==-1 and i<a+1): \n",
    "        if(a%i==0):\n",
    "            L[cont]=i;\n",
    "            cont=cont+1;\n",
    "        i=i+1;\n",
    "    if(L[1]*L[0]==a and is_prime(L[0]) and is_prime(L[1])):\n",
    "        return True\n",
    "    else:\n",
    "        return False\n",
    "\n",
    "    '''Devuelve True si un numero es un primo al cubo'''\n",
    "def primecube(b):\n",
    "    if(b==1):\n",
    "        return True\n",
    "    L=[0]\n",
    "    i=2\n",
    "    while(L[0]==0 and i<b+1):\n",
    "        if(b%i==0):\n",
    "            L[0]=i;\n",
    "        i=i+1;\n",
    "    if(L[0]*L[0]*L[0]==b and is_prime(L[0])):\n",
    "        return True\n",
    "    else:\n",
    "        return False\n",
    "            "
   ]
  },
  {
   "cell_type": "code",
   "execution_count": 4,
   "metadata": {
    "collapsed": false
   },
   "outputs": [],
   "source": [
    "def comprobar(n):\n",
    "    L1=perfectos(n);\n",
    "    L2=[]\n",
    "    bl=True\n",
    "    for i in srange(1,n+1):\n",
    "        if(primecube(i) or prod2primes(i)):\n",
    "            L2.append(i)\n",
    "\n",
    " \n",
    "    if(len(L1)!=len(L2)):\n",
    "        return False\n",
    "    cont=len(L1)\n",
    "    i=0\n",
    "    while(bl==True and i<cont):\n",
    "        bl= (L1[i]==L2[i])\n",
    "        i=i+1\n",
    "    return bl\n",
    "    "
   ]
  },
  {
   "cell_type": "code",
   "execution_count": 5,
   "metadata": {
    "collapsed": false
   },
   "outputs": [
    {
     "name": "stdout",
     "output_type": "stream",
     "text": [
      "CPU times: user 16 ms, sys: 0 ns, total: 16 ms\n",
      "Wall time: 12.1 ms\n"
     ]
    },
    {
     "data": {
      "text/plain": [
       "True"
      ]
     },
     "execution_count": 5,
     "metadata": {},
     "output_type": "execute_result"
    }
   ],
   "source": [
    "time comprobar(100)"
   ]
  },
  {
   "cell_type": "code",
   "execution_count": null,
   "metadata": {
    "collapsed": false
   },
   "outputs": [],
   "source": [
    "time comprobar(10000)"
   ]
  },
  {
   "cell_type": "code",
   "execution_count": null,
   "metadata": {
    "collapsed": true
   },
   "outputs": [],
   "source": [
    "time comprobar(10^5)"
   ]
  },
  {
   "cell_type": "code",
   "execution_count": null,
   "metadata": {
    "collapsed": true
   },
   "outputs": [],
   "source": []
  }
 ],
 "metadata": {
  "kernelspec": {
   "display_name": "SageMath 7.3",
   "language": "",
   "name": "sagemath"
  },
  "language_info": {
   "codemirror_mode": {
    "name": "ipython",
    "version": 2
   },
   "file_extension": ".py",
   "mimetype": "text/x-python",
   "name": "python",
   "nbconvert_exporter": "python",
   "pygments_lexer": "ipython2",
   "version": "2.7.10"
  }
 },
 "nbformat": 4,
 "nbformat_minor": 0
}
