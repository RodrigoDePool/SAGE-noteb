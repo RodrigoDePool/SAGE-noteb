{
 "cells": [
  {
   "cell_type": "markdown",
   "metadata": {},
   "source": [
    "### Ejercicio1"
   ]
  },
  {
   "cell_type": "code",
   "execution_count": 1,
   "metadata": {
    "collapsed": true
   },
   "outputs": [],
   "source": [
    "def H(n,nbits):\n",
    "    suma=0;\n",
    "    for i in srange(1,n+1):\n",
    "        suma=suma+(1/i).n(prec=nbits);\n",
    "    return suma.n(prec=nbits)\n",
    "\n",
    "def H2(n,nbits):\n",
    "    suma=0;\n",
    "    for i in srange(1,n+1):\n",
    "        suma=suma+(1/i);\n",
    "    return suma.n(prec=nbits)"
   ]
  },
  {
   "cell_type": "code",
   "execution_count": 2,
   "metadata": {
    "collapsed": false
   },
   "outputs": [
    {
     "name": "stdout",
     "output_type": "stream",
     "text": [
      "9.7876060360443822641784779045\n",
      "9.7876060360443822641784779049\n"
     ]
    }
   ],
   "source": [
    "print H(10000,100);\n",
    "print H2(10000,100);"
   ]
  },
  {
   "cell_type": "markdown",
   "metadata": {},
   "source": [
    "*Respuesta 1:*  \n",
    "Debido a que sage opera simbolicamente la suma de los racionales en el caso H2 y solo realiza el calculo numerico al final de la suma, este ultimo sera mas exacto. Evitando asi los errores que se arrastran al hacer la aproximacion con nbits de cada uno de los sumandos"
   ]
  },
  {
   "cell_type": "markdown",
   "metadata": {},
   "source": [
    "### Ejercicio 2:"
   ]
  },
  {
   "cell_type": "markdown",
   "metadata": {},
   "source": [
    "*Apartado a*"
   ]
  },
  {
   "cell_type": "code",
   "execution_count": 3,
   "metadata": {
    "collapsed": false
   },
   "outputs": [],
   "source": [
    "def mi_gamma1(n,nbits):\n",
    "    return (H2(n,nbits)-log(n).n(prec=nbits)).n(prec=nbits);"
   ]
  },
  {
   "cell_type": "markdown",
   "metadata": {},
   "source": [
    "*Apartado b*"
   ]
  },
  {
   "cell_type": "code",
   "execution_count": 4,
   "metadata": {
    "collapsed": true
   },
   "outputs": [],
   "source": [
    "def mi_gamma2(n,nbits):\n",
    "    suma=0;\n",
    "    for i in srange(1,n+1):\n",
    "        suma=suma+ceil(n/i)-n/i;\n",
    "    return suma*1/n.n(prec=nbits);"
   ]
  },
  {
   "cell_type": "code",
   "execution_count": 5,
   "metadata": {
    "collapsed": true
   },
   "outputs": [],
   "source": [
    "def mi_gamma3(n,nbits):\n",
    "    suma = 0;\n",
    "    for i in srange(1,n+1):\n",
    "        suma = suma + 1/i - log(1+1/i);\n",
    "    return suma.n(prec=nbits);"
   ]
  },
  {
   "cell_type": "code",
   "execution_count": 10,
   "metadata": {
    "collapsed": true
   },
   "outputs": [],
   "source": [
    "nbits=1000;"
   ]
  },
  {
   "cell_type": "code",
   "execution_count": 7,
   "metadata": {
    "collapsed": true
   },
   "outputs": [],
   "source": [
    "#Funcion que devuelve el numero de cifras decimales iguales entre dos numero r y n\n",
    "def cifras(r,n):\n",
    "    i=0;\n",
    "    while abs(r-n)<10^-i:\n",
    "        i=i+1;\n",
    "    return i-1;"
   ]
  },
  {
   "cell_type": "code",
   "execution_count": 9,
   "metadata": {
    "collapsed": false
   },
   "outputs": [
    {
     "data": {
      "text/plain": [
       "2"
      ]
     },
     "execution_count": 9,
     "metadata": {},
     "output_type": "execute_result"
    }
   ],
   "source": [
    "cifras(1.234,1.23)"
   ]
  },
  {
   "cell_type": "code",
   "execution_count": null,
   "metadata": {
    "collapsed": false
   },
   "outputs": [],
   "source": [
    "mi_gamma1(10^6,nbits)"
   ]
  },
  {
   "cell_type": "code",
   "execution_count": null,
   "metadata": {
    "collapsed": true
   },
   "outputs": [],
   "source": []
  },
  {
   "cell_type": "code",
   "execution_count": null,
   "metadata": {
    "collapsed": true
   },
   "outputs": [],
   "source": []
  },
  {
   "cell_type": "code",
   "execution_count": null,
   "metadata": {
    "collapsed": true
   },
   "outputs": [],
   "source": []
  },
  {
   "cell_type": "code",
   "execution_count": null,
   "metadata": {
    "collapsed": true
   },
   "outputs": [],
   "source": []
  }
 ],
 "metadata": {
  "kernelspec": {
   "display_name": "SageMath 7.3",
   "language": "",
   "name": "sagemath"
  },
  "language_info": {
   "codemirror_mode": {
    "name": "ipython",
    "version": 2
   },
   "file_extension": ".py",
   "mimetype": "text/x-python",
   "name": "python",
   "nbconvert_exporter": "python",
   "pygments_lexer": "ipython2",
   "version": "2.7.10"
  }
 },
 "nbformat": 4,
 "nbformat_minor": 0
}
