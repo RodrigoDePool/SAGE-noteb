{
 "cells": [
  {
   "cell_type": "markdown",
   "metadata": {},
   "source": [
    "1) Antes que nada, lee cuidadosamente estas instrucciones y las que aparecen en la hoja con la contraseña. \n",
    "\n",
    "2) Cambia el nombre de este archivo sustituyendo \"nombre.apellido\" por los tuyos, tal como aparecen en tu dirección de correo electrónico de la UAM.\n",
    "\n",
    "3) Este archivo debe quedar en la carpeta \"ENTREGA...\" que está en el escritorio de tu cuenta de examen. Lo mejor es que esté en esa carpeta desde el comienzo del examen.\n",
    "\n",
    "4) El examen resuelto debe quedar en este único archivo. No se puede usar un archivo para cada pregunta.\n",
    "\n",
    "5) Recuerda que hay que deshabilitar el salvapantallas al comenzar el examen, tal como está indicado en la hoja con la contraseña. \n",
    "\n",
    "\n",
    "CALIFICACIÓN:\n"
   ]
  },
  {
   "cell_type": "code",
   "execution_count": 56,
   "metadata": {
    "collapsed": false
   },
   "outputs": [
    {
     "data": {
      "text/plain": [
       "9"
      ]
     },
     "execution_count": 56,
     "metadata": {},
     "output_type": "execute_result"
    }
   ],
   "source": [
    "2+3+4"
   ]
  },
  {
   "cell_type": "markdown",
   "metadata": {},
   "source": [
    "COMENTARIOS:\n",
    "\n",
    "1) Ej 1: El algoritmo que propones no parece estar bien. "
   ]
  },
  {
   "cell_type": "markdown",
   "metadata": {},
   "source": [
    "## Ejercicio 1\n",
    "\n",
    "(3 puntos) Los elementos invertibles para el producto en $\\mathbb{Z}_n$ forman un grupo  que habitualmente se denota por $\\mathbb{Z}_n^*$. Su cardinal es $\\phi(n)$, con $\\phi$ la función de Euler, y sus elementos son las clases de restos con un representante primo con $n$. Supongamos que $n$ es un primo $p$, de forma que  $\\phi(p)=p-1$, y se sabe que, en este caso,  $\\mathbb{Z}_p^*$ es un grupo cíclico. Este ejercicio trata de encontrar generadores de $\\mathbb{Z}_p^*$, mediante *fuerza bruta*, es decir, no usamos un algoritmo específico, sino que probamos distintos elementos, elegidos aleatoriamente, hasta que encontramos uno que es un generador.\n",
    "\n",
    "1) Define una función $generador(p)$ que primero compruebe si $p$ es primo, y si lo es devuelva un generador del grupo $\\mathbb{Z}_p^*$. Por supuesto, **NO** sirve usar una función predefinida en Sage  que ella misma calcule generadores. \n",
    "\n",
    "2) Define una función $es\\_generador(g,n)$ que devuelva *True* si $g$ es un generador de $\\mathbb{Z}_n^*$ y *False* si no lo es. En este apartado,  y los siguientes, $n$ es un entero no necesariamente primo. \n",
    "\n",
    "3) Define una función $es\\_ciclico(n)$ que devuelva *True* si $\\mathbb{Z}_n^*$ tiene algún generador, es decir, *es cíclico*, y *False* si no existe generador. \n",
    "\n",
    "4) Finalmente, ejecuta la función  $es\\_ciclico(n)$ para $2\\le n\\le 200$, y **enuncia** la regla,  que puedas deducir del experimento,  sobre **los valores de $n$, aparte de $n$ primo, para los que  $\\mathbb{Z}_n^*$ tiene un generador**.\n",
    "\n"
   ]
  },
  {
   "cell_type": "markdown",
   "metadata": {},
   "source": [
    "### El algoritmo para encontrar un generador se base en\n",
    "1- Factoriza el entero p−1, y sean p1,p2,…,pk\n",
    "sus factores primos.   \n",
    "2- Para cada posible generador,  a∈{2,3,…,p−1}\n",
    "calcula las potencias de a módulo p con exponentes (p−1)/pi mientras no se obtiene una potencia igual a 1. Si se obtiene una potencia igual a 1  el elemento a no es un generador y hay que probar con otro valor de a\n",
    ".  \n",
    "3- Si se obtienen k\n",
    "potencias todas diferentes de 1 se demuestra que a es un generador."
   ]
  },
  {
   "cell_type": "code",
   "execution_count": 1,
   "metadata": {
    "collapsed": true
   },
   "outputs": [],
   "source": [
    "#Funcion devuelve una lista con los factores primos de un numero\n",
    "def list_primes(p):\n",
    "    return [a for (a,b) in list(p.factor())];\n",
    "#Funcion que crea generadores de forma aleatoria\n",
    "#Va probando con posibles numeros hasta que encuentra un generador\n",
    "def generador(p):\n",
    "    L=list_primes(p-1);\n",
    "    if(not p.is_prime()):\n",
    "        return -1;\n",
    "    n=0;## Es una variable para que no se quede en bucle infinito\n",
    "    while n<10^9:\n",
    "        i=randint(2,p-1);\n",
    "        flag=0;\n",
    "        for j in L:\n",
    "            if(power_mod(int(i),int((p-1)/j),int(p))==1):\n",
    "                flag=1;\n",
    "        if(flag==0):\n",
    "            return i;\n",
    "        n=n+1;\n",
    "    return -1;"
   ]
  },
  {
   "cell_type": "code",
   "execution_count": 2,
   "metadata": {
    "collapsed": true
   },
   "outputs": [],
   "source": [
    "def es_generador(g,n):\n",
    "    L=[];\n",
    "    i=1;\n",
    "    aux=power_mod(g,i,p);\n",
    "    while i<p and aux not in L:\n",
    "        L.append(aux);\n",
    "        i=i+1;\n",
    "        aux=power_mod(g,i,p);\n",
    "    if(len(L)==p-1):\n",
    "        return true;\n",
    "    return false;"
   ]
  },
  {
   "cell_type": "markdown",
   "metadata": {},
   "source": [
    "Podemos probar repetidas veces el codigo de la celda siguiente para probar que las funciones en efecto crean generadores"
   ]
  },
  {
   "cell_type": "code",
   "execution_count": 3,
   "metadata": {
    "collapsed": false
   },
   "outputs": [
    {
     "name": "stdout",
     "output_type": "stream",
     "text": [
      "True\n"
     ]
    }
   ],
   "source": [
    "p = random_prime(10^4,lbound=10^3);\n",
    "print es_generador(generador(p),p);"
   ]
  },
  {
   "cell_type": "code",
   "execution_count": 4,
   "metadata": {
    "collapsed": false
   },
   "outputs": [],
   "source": [
    "def es_ciclico(n):\n",
    "    if(n.is_prime()):\n",
    "        return true;\n",
    "    for i in range(2,n):\n",
    "        if(es_generador(i,n)):\n",
    "            return true;\n",
    "    return false;"
   ]
  },
  {
   "cell_type": "code",
   "execution_count": 5,
   "metadata": {
    "collapsed": false
   },
   "outputs": [
    {
     "name": "stdout",
     "output_type": "stream",
     "text": [
      "[2, 3, 4, 5, 6, 7, 8, 9, 10, 11, 12, 13, 14, 15, 16, 17, 18, 19, 20, 21, 22, 23, 24, 25, 26, 27, 28, 29, 30, 31, 32, 33, 34, 35, 36, 37, 38, 39, 40, 41, 42, 43, 44, 45, 46, 47, 48, 49, 50, 51, 52, 53, 54, 55, 56, 57, 58, 59, 60, 61, 62, 63, 64, 65, 66, 67, 68, 69, 70, 71, 72, 73, 74, 75, 76, 77, 78, 79, 80, 81, 82, 83, 84, 85, 86, 87, 88, 89, 90, 91, 92, 93, 94, 95, 96, 97, 98, 99, 100, 101, 102, 103, 104, 105, 106, 107, 108, 109, 110, 111, 112, 113, 114, 115, 116, 117, 118, 119, 120, 121, 122, 123, 124, 125, 126, 127, 128, 129, 130, 131, 132, 133, 134, 135, 136, 137, 138, 139, 140, 141, 142, 143, 144, 145, 146, 147, 148, 149, 150, 151, 152, 153, 154, 155, 156, 157, 158, 159, 160, 161, 162, 163, 164, 165, 166, 167, 168, 169, 170, 171, 172, 173, 174, 175, 176, 177, 178, 179, 180, 181, 182, 183, 184, 185, 186, 187, 188, 189, 190, 191, 192, 193, 194, 195, 196, 197, 198, 199]\n"
     ]
    }
   ],
   "source": [
    "L=[];\n",
    "for i in srange(2,200):\n",
    "    if(es_ciclico(i)):\n",
    "        L.append(i);\n",
    "print L "
   ]
  },
  {
   "cell_type": "markdown",
   "metadata": {},
   "source": [
    "Parece ser que todos los Zn menos n=4  son ciclicos, convendria revisar el algorimot que prueba si es ciclico porque este resultado parece peculiar"
   ]
  },
  {
   "cell_type": "markdown",
   "metadata": {},
   "source": [
    "## Ejercicio 2\n",
    "\n",
    "(3 puntos) En este ejercicio construimos el sistema criptográfico de clave pública  **El Gamal**, que utiliza de manera esencial  el ejercicio anterior. Para simplificar el ejercicio prescindimos de la fase de codificación y nos centramos en el encriptado y desencriptado. Los mensajes codificados van a ser enteros, o más bien clases de restos, y la codificación y descodificación serían similares a las utilizadas en RSA. \n",
    "\n",
    "1) **CLAVES**: La clave pública de *Alice*  está formada por tres enteros $(p,g,A)$ con $p$ un primo muy grande, g un generador de $\\mathbb{Z}_p^*$ y $A:=g^a\\  mod\\  p$,  con el exponente $1\\le a\\le p-2$ la clave privada de *Alice*, que ella elige, con algo de cabeza,  y mantiene en secreto. \n",
    "\n",
    "2) **ENCRIPTADO**: *Bob*, que quiere encriptar un mensaje para Alice, codifica su mensaje como un entero $m$ módulo $p$, elige un exponente aleatorio $1\\le b\\le p-2$ y calcula $B:=g^b\\  mod\\  p$ y también $c:=A^b\\cdot m \\  mod\\  p$. El mensaje encriptado es el par $(B,c).$ \n",
    "\n",
    "3) **DESENCRIPTADO**: Alice recibe $(B,c)$ y define $x:=p-1-a$, lo que le permite recuperar $m$ como $B^x\\cdot c \\ mod\\ p$.\n",
    "\n",
    "A) Usaremos $p= nth\\_prime(1000)$. Elige claves para Alice. Define una función $encripta(p,g,A,m)$ que devuelva $(B,c)$.\n",
    "\n",
    "B) Define una función $desencripta(p,a,B,c)$, que devuelva el mensaje descifrado $m$, y comprueba que si se encripta el mensaje $m=randint(p//2,p-2)$ se recupera el mensaje $m$ al desencriptar.\n",
    "\n",
    "C) El exponente $a$ no cambia, mientras Alice no cambie sus claves tiene que usar siempre $a$ como clave privada, pero el exponente $b$  debe ser elegido aleatoriamente cada vez que Bob quiere encriptar un mensaje para Alice. Supongamos que  Bob encripta $m$ usando como exponente $b$, pero *el malo* consigue acceder a $m$ y a $c$. Posteriormente Bob encripta $m^{\\prime}$ usando el mismo exponente $b$. Demuestra, mediante cálculos en $\\mathbb{Z}_p$,  que si *el malo* intercepta $c^{\\prime}$ puede calcular $m^{\\prime}$ sin conocer $a$. "
   ]
  },
  {
   "cell_type": "code",
   "execution_count": 6,
   "metadata": {
    "collapsed": true
   },
   "outputs": [],
   "source": [
    "p = nth_prime(1000); #primo de la clave publica"
   ]
  },
  {
   "cell_type": "code",
   "execution_count": 7,
   "metadata": {
    "collapsed": false
   },
   "outputs": [],
   "source": [
    "g=generador(p); #generador aleatorio de p"
   ]
  },
  {
   "cell_type": "code",
   "execution_count": 8,
   "metadata": {
    "collapsed": true
   },
   "outputs": [],
   "source": [
    "a= randint(2,p-2); #clave privada de Alice"
   ]
  },
  {
   "cell_type": "code",
   "execution_count": 9,
   "metadata": {
    "collapsed": false
   },
   "outputs": [],
   "source": [
    "A=power_mod(g,a,p); #A de la clace publica de Alice"
   ]
  },
  {
   "cell_type": "code",
   "execution_count": 10,
   "metadata": {
    "collapsed": true
   },
   "outputs": [],
   "source": [
    "def encripta(p,g,A,m):\n",
    "    b=randint(2,p-2);\n",
    "    B=power_mod(g,b,p);\n",
    "    c=(power_mod(A,b,p)*m)%p\n",
    "    return [B,c]"
   ]
  },
  {
   "cell_type": "code",
   "execution_count": 11,
   "metadata": {
    "collapsed": true
   },
   "outputs": [],
   "source": [
    "def desencripta(p,a,B,c):\n",
    "    x=p-1-a;\n",
    "    return (power_mod(B,x,p)*c)%p;"
   ]
  },
  {
   "cell_type": "code",
   "execution_count": 12,
   "metadata": {
    "collapsed": false
   },
   "outputs": [],
   "source": [
    "prueba=randint(p//2, p- 2 );"
   ]
  },
  {
   "cell_type": "code",
   "execution_count": 13,
   "metadata": {
    "collapsed": false
   },
   "outputs": [
    {
     "name": "stdout",
     "output_type": "stream",
     "text": [
      "True\n"
     ]
    }
   ],
   "source": [
    "L=encripta(p,g,A,prueba);\n",
    "print prueba==desencripta(p,a,L[0],L[1])"
   ]
  },
  {
   "cell_type": "markdown",
   "metadata": {},
   "source": [
    "En efecto funciona"
   ]
  },
  {
   "cell_type": "markdown",
   "metadata": {},
   "source": [
    "Si el malo intercepta en el primer mensaje m y c, entonces el malo sabe que:  \n",
    "((g^b)^x)*c equivale a m (modulo p)  \n",
    "  \n",
    "Sabiendo que x es constante (se determina con las claves privadas de Alice que no cambian) y sabiendo que Bob ha utilizado el mismo b, entonces el malo puede calcular ((g^b)^x).  \n",
    "Le basta con calcular el inverso de c modulo p, entonces ((g^b)^x) sera igual a m*(c^-1)  \n",
    "  \n",
    "Con esta informacion y c' ya el malo tiene los datos para desencriptar el nuevo mensaje:  \n",
    "((g^b)^x)*c' (modulo p) que es (m*(c^-1)*c') (modulo p) .Este sera el mensaje m' que envio Bob a Alice.  (Recordemos que el malo conoce ((g^b)^x) y c')  \n",
    "  \n",
    "  Moraleja: Para que este sistema sea efectivo Bob no debe reutilizar b."
   ]
  },
  {
   "cell_type": "markdown",
   "metadata": {},
   "source": [
    "## Ejercicio 3\n",
    "\n",
    "(4 puntos) El sistema **One time pad** es criptográficamente perfecto siempre que: \n",
    "\n",
    "1) No se reutilicen trozos de clave ya utilizados.\n",
    "\n",
    "2) La clave sea una cadena binaria aleatoria, con igual probabilidad para el cero que para el uno.\n",
    "\n",
    "En clase se mencionó que **``si utilizamos el mismo trozo de clave repetidas veces el One time pad termina convertido en Vigenere, y, por tanto, es vulnerable''**. Esta afirmación es intuitivamente clara debido a la manera en que se definen los dos sistemas criptográficos, sin embargo, en este ejercicio **queremos comprobarlo sobre un ejemplo concreto.**\n",
    "\n",
    "Las funciones necesarias para efectuar esta comprobación ya están **casi** preparadas por nuestro trabajo previo con los ejercicios del curso, pero **será necesario efectuar algunos pequeños cambios** porque unas están adaptadas a *Vigenere* y otras a *One time pad*.  \n",
    "\n",
    "Resumiendo: hay que comprobar que si usamos para *One time pad* una clave $C$ de 100 bits, definida en una celda más abajo, y encriptamos el texto indicado, repitiendo la misma clave todas las veces que haga falta (es decir, usando como clave la concatenación de $C$ tantas veces como necesitemos), **el malo** puede recuperar la clave si intercepta el texto encriptado usando, esencialmente, el mismo método que permite romper *Vigenere*. \n",
    "\n",
    "**IMPORTANTE:** Para simplificar el ejercicio supondremos que **el malo** conoce la longitud del trozo de clave que se repite, es decir, sabe que se va a repetir una clave de $100$ bits. "
   ]
  },
  {
   "cell_type": "code",
   "execution_count": 33,
   "metadata": {
    "collapsed": true
   },
   "outputs": [],
   "source": [
    "## Alfabeto de 32 caracteres que vamos a utilizar\n",
    "alfb = \"ABCDEFGHIJKLMNOPQRSTUVWXYZ123456\""
   ]
  },
  {
   "cell_type": "code",
   "execution_count": 34,
   "metadata": {
    "collapsed": true
   },
   "outputs": [],
   "source": [
    "## La clave de 100 bits a repetir\n",
    "C = '1010011001110111111110110110010001011010011010001001101001100011111000000101110011010000000111010101' "
   ]
  },
  {
   "cell_type": "code",
   "execution_count": 35,
   "metadata": {
    "collapsed": true
   },
   "outputs": [],
   "source": [
    "## El texto a encriptar\n",
    "texto = 'TELLMEOMUSEOFTHATINGENIOUSHEROWHOTRAVELLEDFARANDWIDEAFTERHEHADSACKEDTHEFAMOUSTOWNOFTROYMANYCITIESDIDHEVISITANDMANYWERETHENATIONSWITHWHOSEMANNERSANDCUSTOMSHEWASACQUAINTEDMOREOVERHESUFFEREDMUCHBYSEAWHILETRYINGTOSAVEHISOWNLIFEANDBRINGHISMENSAFELYHOMEBUTDOWHATHEMIGHTHECOULDNOTSAVEHISMENFORTHEYPERISHEDTHROUGHTHEIROWNSHEERFOLLYINEATINGTHECATTLEOFTHESUNGODHYPERIONSOTHEGODPREVENTEDTHEMFROMEVERREACHINGHOMETELLMETOOABOUTALLTHESETHINGSOHDAUGHTEROFJOVEFROMWHATSOEVERSOURCEYOUMAYKNOWTHEMSONOWALLWHOESCAPEDDEATHINBATTLEORBYSHIPWRECKHADGOTSAFELYHOMEEXCEPTULYSSESANDHETHOUGHHEWASLONGINGTORETURNTOHISWIFEANDCOUNTRYWASDETAINEDBYTHEGODDESSCALYPSOWHOHADGOTHIMINTOALARGECAVEANDWANTEDTOMARRYHIMBUTASYEARSWENTBYTHERECAMEATIMEWHENTHEGODSSETTLEDTHATHESHOULDGOBACKTOITHACAEVENTHENHOWEVERWHENHEWASAMONGHISOWNPEOPLEHISTROUBLESWERENOTYETOVERNEVERTHELESSALLTHEGODSHADNOWBEGUNTOPITYHIMEXCEPTNEPTUNEWHOSTILLPERSECUTEDHIMWITHOUTCEASINGANDWOULDNOTLETHIMGETHOMENOWNEPTUNEHADGONEOFFTOTHEETHIOPIANSWHOAREATTHEWORLDSENDANDLIEINTWOHALVESTHEONELOOKINGWESTANDTHEOTHEREASTHEHADGONETHERETOACCEPTAHECATOMBOFSHEEPANDOXENANDWASENJOYINGHIMSELFATHISFESTIVALBUTTHEOTHERGODSMETINTHEHOUSEOFOLYMPIANJOVEANDTHESIREOFGODSANDMENSPOKEFIRSTATTHATMOMENTHEWASTHINKINGOFAEGISTHUSWHOHADBEENKILLEDBYAGAMEMNONSSONORESTESSOHESAIDTOTHEOTHERGODSSEENOWHOWMENLAYBLAMEUPONUSGODSFORWHATISAFTERALLNOTHINGBUTTHEIROWNFOLLYLOOKATAEGISTHUSHEMUSTNEEDSMAKELOVETOAGAMEMNONSWIFEUNRIGHTEOUSLYANDTHENKILLAGAMEMNONTHOUGHHEKNEWITWOULDBETHEDEATHOFHIMFORISENTMERCURYTOWARNHIMNOTTODOEITHEROFTHESETHINGSINASMUCHASORESTESWOULDBESURETOTAKEHISREVENGEWHENHEGREWUPANDWANTEDTORETURNHOMEMERCURYTOLDHIMTHISINALLGOODWILLBUTHEWOULDNOTLISTENANDNOWHEHASPAIDFOREVERYTHINGINFULLTHENMINERVASAIDFATHERSONOFSATURNKINGOFKINGSITSERVEDAEGISTHUSRIGHTANDSOITWOULDANYONEELSEWHODOESASHEDIDBUTAEGISTHUSISNEITHERHERENORTHEREITISFORULYSSESTHATMYHEARTBLEEDSWHENITHINKOFHISSUFFERINGSINTHATLONELYSEAGIRTISLANDFARAWAYPOORMANFROMALLHISFRIENDSITISANISLANDCOVEREDWITHFORESTINTHEVERYMIDDLEOFTHESEAANDAGODDESSLIVESTHEREDAUGHTEROFTHEMAGICIANATLASWHOLOOKSAFTERTHEBOTTOMOFTHEOCEANANDCARRIESTHEGREATCOLUMNSTHATKEEPHEAVENANDEARTHASUNDERTHISDAUGHTEROFATLASHASGOTHOLDOFPOORUNHAPPYULYSSESANDKEEPSTRYINGBYEVERYKINDOFBLANDISHMENTTOMAKEHIMFORGETHISHOMESOTHATHEISTIREDOFLIFEANDTHINKSOFNOTHINGBUTHOWHEMAYONCEMORESEETHESMOKEOFHISOWNCHIMNEYSYOUSIRTAKENOHEEDOFTHISANDYETWHENULYSSESWASBEFORETROYDIDHENOTPROPITIATEYOUWITHMANYABURNTSACRIFICEWHYTHENSHOULDYOUKEEPONBEINGSOANGRYWITHHIMANDJOVESAIDMYCHILDWHATAREYOUTALKINGABOUTHOWCANIFORGETULYSSESTHANWHOMTHEREISNOMORECAPABLEMANONEARTHNORMORELIBERALINHISOFFERINGSTOTHEIMMORTALGODSTHATLIVEINHEAVENBEARINMINDHOWEVERTHATNEPTUNEISSTILLFURIOUSWITHULYSSESFORHAVINGBLINDEDANEYEOFPOLYPHEMUSKINGOFTHECYCLOPESPOLYPHEMUSISSONTONEPTUNEBYTHENYMPHTHOOSADAUGHTERTOTHESEAKINGPHORCYSTHEREFORETHOUGHHEWILLNOTKILLULYSSESOUTRIGHTHETORMENTSHIMBYPREVENTINGHIMFROMGETTINGHOMESTILLLETUSLAYOURHEADSTOGETHERANDSEEHOWWECANHELPHIMTORETURNNEPTUNEWILLTHENBEPACIFIEDFORIFWEAREALLOFAMINDHECANHARDLYSTANDOUTAGAINSTUSANDMINERVASAIDFATHERSONOFSATURNKINGOFKINGSIFTHENTHEGODSNOWMEANTHATULYSSESSHOULDGETHOMEWESHOULDFIRSTSENDMERCURYTOTHEOGYGIANISLANDTOTELLCALYPSOTHATWEHAVEMADEUPOURMINDSANDTHATHEISTORETURNINTHEMEANTIMEIWILLGOTOITHACATOPUTHEARTINTOULYSSESSONTELEMACHUSIWILLEMBOLDENHIMTOCALLTHEACHAEANSINASSEMBLYANDSPEAKOUTTOTHESUITORSOFHISMOTHERPENELOPEWHOPERSISTINEATINGUPANYNUMBEROFHISSHEEPANDOXENIWILLALSOCONDUCTHIMTOSPARTAANDTOPYLOSTOSEEIFHECANHEARANYTHINGABOUTTHERETURNOFHISDEARFATHERFORTHISWILLMAKEPEOPLESPEAKWELLOFHIMSOSAYINGSHEBOUNDONHERGLITTERINGGOLDENSANDALSIMPERISHABLEWITHWHICHSHECANFLYLIKETHEWINDOVERLANDORSEASHEGRASPEDTHEREDOUBTABLEBRONZESHODSPEARSOSTOUTANDSTURDYANDSTRONGWHEREWITHSHEQUELLSTHERANKSOFHEROESWHOHAVEDISPLEASEDHERANDDOWNSHEDARTEDFROMTHETOPMOSTSUMMITSOFOLYMPUSWHEREONFORTHWITHSHEWASINITHACAATTHEGATEWAYOFULYSSESHOUSEDISGUISEDASAVISITORMENTESCHIEFOFTHETAPHIANSANDSHEHELDABRONZESPEARINHERHANDTHERESHEFOUNDTHELORDLYSUITORSSEATEDONHIDESOFTHEOXENWHICHTHEYHADKILLEDANDEATENANDPLAYINGDRAUGHTSINFRONTOFTHEHOUSEMENSERVANTSANDPAGESWEREBUSTLINGABOUTTOWAITUPONTHEMSOMEMIXINGWINEWITHWATERINTHEMIXINGBOWLSSOMECLEANINGDOWNTHETABLESWITHWETSPONGESANDLAYINGTHEMOUTAGAINANDSOMECUTTINGUPGREATQUANTITIESOFMEATTELEMACHUSSAWHERLONGBEFOREANYONEELSEDIDHEWASSITTINGMOODILYAMONGTHESUITORSTHINKINGABOUTHISBRAVEFATHERANDHOWHEWOULDSENDTHEMFLYINGOUTOFTHEHOUSEIFHEWERETOCOMETOHISOWNAGAINANDBEHONOUREDASINDAYSGONEBYTHUSBROODINGASHESATAMONGTHEMHECAUGHTSIGHTOFMINERVAANDWENTSTRAIGHTTOTHEGATEFORHEWASVEXEDTHATASTRANGERSHOULDBEKEPTWAITINGFORADMITTANCEHETOOKHERRIGHTHANDINHISOWNANDBADEHERGIVEHIMHERSPEARWELCOMESAIDHETOOURHOUSEANDWHENYOUHAVEPARTAKENOFFOODYOUSHALLTELLUSWHATYOUHAVECOMEFORHELEDTHEWAYASHESPOKEANDMINERVAFOLLOWEDHIMWHENTHEYWEREWITHINHETOOKHERSPEARANDSETITINTHESPEARSTANDAGAINSTASTRONGBEARINGPOSTALONGWITHTHEMANYOTHERSPEARSOFHISUNHAPPYFATHERANDHECONDUCTEDHERTOARICHLYDECORATEDSEATUNDERWHICHHETHREWACLOTHOFDAMASKTHEREWASAFOOTSTOOLALSOFORHERFEETANDHESETANOTHERSEATNEARHERFORHIMSELFAWAYFROMTHESUITORSTHATSHEMIGHTNOTBEANNOYEDWHILEEATINGBYTHEIRNOISEANDINSOLENCEANDTHATHEMIGHTASKHERMOREFREELYABOUTHISFATHERAMAIDSERVANTTHENBROUGHTTHEMWATERINABEAUTIFULGOLDENEWERANDPOUREDITINTOASILVERBASINFORTHEMTOWASHTHEIRHANDSANDSHEDREWACLEANTABLEBESIDETHEMANUPPERSERVANTBROUGHTTHEMBREADANDOFFEREDTHEMMANYGOODTHINGSOFWHATTHEREWASINTHEHOUSETHECARVERFETCHEDTHEMPLATESOFALLMANNEROFMEATSANDSETCUPSOFGOLDBYTHEIRSIDEANDAMANSERVANTBROUGHTTHEMWINEANDPOUREDITOUTFORTHEMTHENTHESUITORSCAMEINANDTOOKTHEIRPLACESONTHEBENCHESANDSEATSFORTHWITHMENSERVANTSPOUREDWATEROVERTHEIRHANDSMAIDSWENTROUNDWITHTHEBREADBASKETSPAGESFILLEDTHEMIXINGBOWLSWITHWINEANDWATERANDTHEYLAIDTHEIRHANDSUPONTHEGOODTHINGSTHATWEREBEFORETHEMASSOONASTHEYHADHADENOUGHTOEATANDDRINKTHEYWANTEDMUSICANDDANCINGWHICHARETHECROWNINGEMBELLISHMENTSOFABANQUETSOASERVANTBROUGHTALYRETOPHEMIUSWHOMTHEYCOMPELLEDPERFORCETOSINGTOTHEMASSOONASHETOUCHEDHISLYREANDBEGANTOSINGTELEMACHUSSPOKELOWTOMINERVAWITHHISHEADCLOSETOHERSTHATNOMANMIGHTHEARIHOPESIRSAIDHETHATYOUWILLNOTBEOFFENDEDWITHWHATIAMGOINGTOSAYSINGINGCOMESCHEAPTOTHOSEWHODONOTPAYFORITANDALLTHISISDONEATTHECOSTOFONEWHOSEBONESLIEROTTINGINSOMEWILDERNESSORGRINDINGTOPOWDERINTHESURFIFTHESEMENWERETOSEEMYFATHERCOMEBACKTOITHACATHEYWOULDPRAYFORLONGERLEGSRATHERTHANALONGERPURSEFORMONEYWOULDNOTSERVETHEMBUTHEALASHASFALLENONANILLFATEANDEVENWHENPEOPLEDOSOMETIMESSAYTHATHEISCOMINGWENOLONGERHEEDTHEMWESHALLNEVERSEEHIMAGAINANDNOWSIRTELLMEANDTELLMETRUEWHOYOUAREANDWHEREYOUCOMEFROMTELLMEOFYOURTOWNANDPARENTSWHATMANNEROFSHIPYOUCAMEINHOWYOURCREWBROUGHTYOUTOITHACAANDOFWHATNATIONTHEYDECLAREDTHEMSELVESTOBEFORYOUCANNOTHAVECOMEBYLANDTELLMEALSOTRULYFORIWANTTOKNOWAREYOUASTRANGERTOTHISHOUSEORHAVEYOUBEENHEREINMYFATHERSTIMEINTHEOLDDAYSWEHADMANYVISITORSFORMYFATHERWENTABOUTMUCHHIMSELFANDMINERVAANSWEREDIWILLTELLYOUTRULYANDPARTICULARLYALLABOUTITIAMMENTESSONOFANCHIALUSANDIAMKINGOFTHETAPHIANSIHAVECOMEHEREWITHMYSHIPANDCREWONAVOYAGETOMENOFAFOREIGNTONGUEBEINGBOUNDFORTEMESAWITHACARGOOFIRONANDISHALLBRINGBACKCOPPERASFORMYSHIPITLIESOVERYONDEROFFTHEOPENCOUNTRYAWAYFROMTHETOWNINTHEHARBOURRHEITHRONUNDERTHEWOODEDMOUNTAINNERITUMOURFATHERSWEREFRIENDSBEFOREUSASOLDLAERTESWILLTELLYOUIFYOUWILLGOANDASKHIMTHEYSAYHOWEVERTHATHENEVERCOMESTOTOWNNOWANDLIVESBYHIMSELFINTHECOUNTRYFARINGHARDLYWITHANOLDWOMANTOLOOKAFTERHIMANDGETHISDINNERFORHIMWHENHECOMESINTIREDFROMPOTTERINGABOUTHISVINEYARDTHEYTOLDMEYOURFATHERWASATHOMEAGAINANDTHATWASWHYICAMEBUTITSEEMSTHEGODSARESTILLKEEPINGHIMBACKFORHEISNOTDEADYETNOTONTHEMAINLANDITISMORELIKELYHEISONSOMESEAGIRTISLANDINMIDOCEANORAPRISONERAMONGSAVAGESWHOAREDETAININGHIMAGAINSTHISWILLIAMNOPROPHETANDKNOWVERYLITTLEABOUTOMENSBUTISPEAKASITISBORNEINUPONMEFROMHEAVENANDASSUREYOUTHATHEWILLNOTBEAWAYMUCHLONGERFORHEISAMANOFSUCHRESOURCETHATEVENTHOUGHHEWEREINCHAINSOFIRONHEWOULDFINDSOMEMEANSOFGETTINGHOMEAGAINBUTTELLMEANDTELLMETRUECANULYSSESREALLYHAVESUCHAFINELOOKINGFELLOWFORASONYOUAREINDEEDWONDERFULLYLIKEHIMABOUTTHEHEADANDEYESFORWEWERECLOSEFRIENDSBEFOREHESETSAILFORTROYWHERETHEFLOWEROFALLTHEARGIVESWENTALSOSINCETHATTIMEWEHAVENEVEREITHEROFUSSEENTHEOTHERMYMOTHERANSWEREDTELEMACHUSTELLSMEIAMSONTOULYSSESBUTITISAWISECHILDTHATKNOWSHISOWNFATHERWOULDTHATIWERESONTOONEWHOHADGROWNOLDUPONHISOWNESTATESFORSINCEYOUASKMETHEREISNOMOREILLSTARREDMANUNDERHEAVENTHANHEWHOTHEYTELLMEISMYFATHERANDMINERVASAIDTHEREISNOFEAROFYOURRACEDYINGOUTYETWHILEPENELOPEHASSUCHAFINESONASYOUAREBUTTELLMEANDTELLMETRUEWHATISTHEMEANINGOFALLTHISFEASTINGANDWHOARETHESEPEOPLEWHATISITALLABOUTHAVEYOUSOMEBANQUETORISTHEREAWEDDINGINTHEFAMILYFORNOONESEEMSTOBEBRINGINGANYPROVISIONSOFHISOWNANDTHEGUESTSHOWATROCIOUSLYTHEYAREBEHAVINGWHATRIOTTHEYMAKEOVERTHEWHOLEHOUSEITISENOUGHTODISGUSTANYRESPECTABLEPERSONWHOCOMESNEARTHEMSIRSAIDTELEMACHUSASREGARDSYOURQUESTIONSOLONGASMYFATHERWASHEREITWASWELLWITHUSANDWITHTHEHOUSEBUTTHEGODSINTHEIRDISPLEASUREHAVEWILLEDITOTHERWISEANDHAVEHIDDENHIMAWAYMORECLOSELYTHANMORTALMANWASEVERYETHIDDENICOULDHAVEBORNEITBETTEREVENTHOUGHHEWEREDEADIFHEHADFALLENWITHHISMENBEFORETROYORHADDIEDWITHFRIENDSAROUNDHIMWHENTHEDAYSOFHISFIGHTINGWEREDONEFORTHENTHEACHAEANSWOULDHAVEBUILTAMOUNDOVERHISASHESANDISHOULDMYSELFHAVEBEENHEIRTOHISRENOWNBUTNOWTHESTORMWINDSHAVESPIRITEDHIMAWAYWEKNOWNOTWHITHERHEISGONEWITHOUTLEAVINGSOMUCHASATRACEBEHINDHIMANDIINHERITNOTHINGBUTDISMAYNORDOESTHEMATTERENDSIMPLYWITHGRIEFFORTHELOSSOFMYFATHERHEAVENHASLAIDSORROWSUPONMEOFYETANOTHERKINDFORTHECHIEFSFROMALLOURISLANDSDULICHIUMSAMEANDTHEWOODLANDISLANDOFZACYNTHUSASALSOALLTHEPRINCIPALMENOFITHACAITSELFAREEATINGUPMYHOUSEUNDERTHEPRETEXTOFPAYINGTHEIRCOURTTOMYMOTHERWHOWILLNEITHERPOINTBLANKSAYTHATSHEWILLNOTMARRYNORYETBRINGMATTERSTOANENDSOTHEYAREMAKINGHAVOCOFMYESTATEANDBEFORELONGWILLDOSOALSOWITHMYSELFISTHATSOEXCLAIMEDMINERVATHENYOUDOINDEEDWANTULYSSESHOMEAGAINGIVEHIMHISHELMETSHIELDANDACOUPLEOFLANCESANDIFHEISTHEMANHEWASWHENIFIRSTKNEWHIMINOURHOUSEDRINKINGANDMAKINGMERRYHEWOULDSOONLAYHISHANDSABOUTTHESERASCALLYSUITORSWEREHETOSTANDONCEMOREUPONHISOWNTHRESHOLDHEWASTHENCOMINGFROMEPHYRAWHEREHEHADBEENTOBEGPOISONFORHISARROWSFROMILUSSONOFMERMERUSILUSFEAREDTHEEVERLIVINGGODSANDWOULDNOTGIVEHIMANYBUTMYFATHERLETHIMHAVESOMEFORHEWASVERYFONDOFHIMIFULYSSESISTHEMANHETHENWASTHESESUITORSWILLHAVEASHORTSHRIFTANDASORRYWEDDINGBUTTHEREITRESTSWITHHEAVENTODETERMINEWHETHERHEISTORETURNANDTAKEHISREVENGEINHISOWNHOUSEORNOIWOULDHOWEVERURGEYOUTOSETABOUTTRYINGTOGETRIDOFTHESESUITORSATONCETAKEMYADVICECALLTHEACHAEANHEROESINASSEMBLYTOMORROWMORNINGLAYYOURCASEBEFORETHEMANDCALLHEAVENTOBEARYOUWITNESSBIDTHESUITORSTAKETHEMSELVESOFFEACHTOHISOWNPLACEANDIFYOURMOTHERSMINDISSETONMARRYINGAGAINLETHERGOBACKTOHERFATHERWHOWILLFINDHERAHUSBANDANDPROVIDEHERWITHALLTHEMARRIAGEGIFTSTHATSODEARADAUGHTERMAYEXPECTASFORYOURSELFLETMEPREVAILUPONYOUTOTAKETHEBESTSHIPYOUCANGETWITHACREWOFTWENTYMENANDGOINQUESTOFYOURFATHERWHOHASSOLONGBEENMISSINGSOMEONEMAYTELLYOUSOMETHINGORANDPEOPLEOFTENHEARTHINGSINTHISWAYSOMEHEAVENSENTMESSAGEMAYDIRECTYOUFIRSTGOTOPYLOSANDASKNESTORTHENCEGOONTOSPARTAANDVISITMENELAUSFORHEGOTHOMELASTOFALLTHEACHAEANSIFYOUHEARTHATYOURFATHERISALIVEANDONHISWAYHOMEYOUCANPUTUPWITHTHEWASTETHESESUITORSWILLMAKEFORYETANOTHERTWELVEMONTHSIFONTHEOTHERHANDYOUHEAROFHISDEATHCOMEHOMEATONCECELEBRATEHISFUNERALRITESWITHALLDUEPOMPBUILDABARROWTOHISMEMORYANDMAKEYOURMOTHERMARRYAGAINTHENHAVINGDONEALLTHISTHINKITWELLOVERINYOURMINDHOWBYFAIRMEANSORFOULYOUMAYKILLTHESESUITORSINYOUROWNHOUSEYOUARETOOOLDTOPLEADINFANCYANYLONGERHAVEYOUNOTHEARDHOWPEOPLEARESINGINGORESTESPRAISESFORHAVINGKILLEDHISFATHERSMURDERERAEGISTHUSYOUAREAFINESMARTLOOKINGFELLOWSHOWYOURMETTLETHENANDMAKEYOURSELFANAMEINSTORYNOWHOWEVERIMUSTGOBACKTOMYSHIPANDTOMYCREWWHOWILLBEIMPATIENTIFIKEEPTHEMWAITINGLONGERTHINKTHEMATTEROVERFORYOURSELFANDREMEMBERWHATIHAVESAIDTOYOUSIRANSWEREDTELEMACHUSITHASBEENVERYKINDOFYOUTOTALKTOMEINTHISWAYASTHOUGHIWEREYOUROWNSONANDIWILLDOALLYOUTELLMEIKNOWYOUWANTTOBEGETTINGONWITHYOURVOYAGEBUTSTAYALITTLELONGERTILLYOUHAVETAKENABATHANDREFRESHEDYOURSELFIWILLTHENGIVEYOUAPRESENTANDYOUSHALLGOONYOURWAYREJOICINGIWILLGIVEYOUONEOFGREATBEAUTYANDVALUEAKEEPSAKESUCHASONLYDEARFRIENDSGIVETOONEANOTHERMINERVAANSWEREDDONOTTRYTOKEEPMEFORIWOULDBEONMYWAYATONCEASFORANYPRESENTYOUMAYBEDISPOSEDTOMAKEMEKEEPITTILLICOMEAGAINANDIWILLTAKEITHOMEWITHMEYOUSHALLGIVEMEAVERYGOODONEANDIWILLGIVEYOUONEOFNOLESSVALUEINRETURNWITHTHESEWORDSSHEFLEWAWAYLIKEABIRDINTOTHEAIRBUTSHEHADGIVENTELEMACHUSCOURAGEANDHADMADEHIMTHINKMORETHANEVERABOUTHISFATHERHEFELTTHECHANGEWONDEREDATITANDKNEWTHATTHESTRANGERHADBEENAGODSOHEWENTSTRAIGHTTOWHERETHESUITORSWERESITTINGPHEMIUSWASSTILLSINGINGANDHISHEARERSSATRAPTINSILENCEASHETOLDTHESADTALEOFTHERETURNFROMTROYANDTHEILLSMINERVAHADLAIDUPONTHEACHAEANSPENELOPEDAUGHTEROFICARIUSHEARDHISSONGFROMHERROOMUPSTAIRSANDCAMEDOWNBYTHEGREATSTAIRCASENOTALONEBUTATTENDEDBYTWOOFHERHANDMAIDSWHENSHEREACHEDTHESUITORSSHESTOODBYONEOFTHEBEARINGPOSTSTHATSUPPORTEDTHEROOFOFTHECLOISTERSWITHASTAIDMAIDENONEITHERSIDEOFHERSHEHELDAVEILMOREOVERBEFOREHERFACEANDWASWEEPINGBITTERLYPHEMIUSSHECRIEDYOUKNOWMANYANOTHERFEATOFGODSANDHEROESSUCHASPOETSLOVETOCELEBRATESINGTHESUITORSSOMEONEOFTHESEANDLETTHEMDRINKTHEIRWINEINSILENCEBUTCEASETHISSADTALEFORITBREAKSMYSORROWFULHEARTANDREMINDSMEOFMYLOSTHUSBANDWHOMIMOURNEVERWITHOUTCEASINGANDWHOSENAMEWASGREATOVERALLHELLASANDMIDDLEARGOSMOTHERANSWEREDTELEMACHUSLETTHEBARDSINGWHATHEHASAMINDTOBARDSDONOTMAKETHEILLSTHEYSINGOFITISJOVENOTTHEYWHOMAKESTHEMANDWHOSENDSWEALORWOEUPONMANKINDACCORDINGTOHISOWNGOODPLEASURETHISFELLOWMEANSNOHARMBYSINGINGTHEILLFATEDRETURNOFTHEDANAANSFORPEOPLEALWAYSAPPLAUDTHELATESTSONGSMOSTWARMLYMAKEUPYOURMINDTOITANDBEARITULYSSESISNOTTHEONLYMANWHONEVERCAMEBACKFROMTROYBUTMANYANOTHERWENTDOWNASWELLASHEGOTHENWITHINTHEHOUSEANDBUSYYOURSELFWITHYOURDAILYDUTIESYOURLOOMYOURDISTAFFANDTHEORDERINGOFYOURSERVANTSFORSPEECHISMANSMATTERANDMINEABOVEALLOTHERSFORITISIWHOAMMASTERHERESHEWENTWONDERINGBACKINTOTHEHOUSEANDLAIDHERSONSSAYINGINHERHEARTTHENGOINGUPSTAIRSWITHHERHANDMAIDSINTOHERROOMSHEMOURNEDHERDEARHUSBANDTILLMINERVASHEDSWEETSLEEPOVERHEREYESBUTTHESUITORSWERECLAMOROUSTHROUGHOUTTHECOVEREDCLOISTERSANDPRAYEDEACHONETHATHEMIGHTBEHERBEDFELLOWTHENTELEMACHUSSPOKESHAMELESSHECRIEDANDINSOLENTSUITORSLETUSFEASTATOURPLEASURENOWANDLETTHEREBENOBRAWLINGFORITISARARETHINGTOHEARAMANWITHSUCHADIVINEVOICEASPHEMIUSHASBUTINTHEMORNINGMEETMEINFULLASSEMBLYTHATIMAYGIVEYOUFORMALNOTICETODEPARTANDFEASTATONEANOTHERSHOUSESTURNANDTURNABOUTATYOUROWNCOSTIFONTHEOTHERHANDYOUCHOOSETOPERSISTINSPUNGINGUPONONEMANHEAVENHELPMEBUTJOVESHALLRECKONWITHYOUINFULLANDWHENYOUFALLINMYFATHERSHOUSETHERESHALLBENOMANTOAVENGEYOUTHESUITORSBITTHEIRLIPSASTHEYHEARDHIMANDMARVELLEDATTHEBOLDNESSOFHISSPEECHTHENANTINOUSSONOFEUPEITHESSAIDTHEGODSSEEMTOHAVEGIVENYOULESSONSINBLUSTERANDTALLTALKINGMAYJOVENEVERGRANTYOUTOBECHIEFINITHACAASYOURFATHERWASBEFOREYOUTELEMACHUSANSWEREDANTINOUSDONOTCHIDEWITHMEBUTGODWILLINGIWILLBECHIEFTOOIFICANISTHISTHEWORSTFATEYOUCANTHINKOFFORMEITISNOBADTHINGTOBEACHIEFFORITBRINGSBOTHRICHESANDHONOURSTILLNOWTHATULYSSESISDEADTHEREAREMANYGREATMENINITHACABOTHOLDANDYOUNGANDSOMEOTHERMAYTAKETHELEADAMONGTHEMNEVERTHELESSIWILLBECHIEFINMYOWNHOUSEANDWILLRULETHOSEWHOMULYSSESHASWONFORMETHENEURYMACHUSSONOFPOLYBUSANSWEREDITRESTSWITHHEAVENTODECIDEWHOSHALLBECHIEFAMONGUSBUTYOUSHALLBEMASTERINYOUROWNHOUSEANDOVERYOUROWNPOSSESSIONSNOONEWHILETHEREISAMANINITHACASHALLDOYOUVIOLENCENORROBYOUANDNOWMYGOODFELLOWIWANTTOKNOWABOUTTHISSTRANGERWHATCOUNTRYDOESHECOMEFROMOFWHATFAMILYISHEANDWHEREISHISESTATEHASHEBROUGHTYOUNEWSABOUTTHERETURNOFYOURFATHERORWASHEONBUSINESSOFHISOWNHESEEMEDAWELLTODOMANBUTHEHURRIEDOFFSOSUDDENLYTHATHEWASGONEINAMOMENTBEFOREWECOULDGETTOKNOWHIMMYFATHERISDEADANDGONEANSWEREDTELEMACHUSANDEVENIFSOMERUMOURREACHESMEIPUTNOMOREFAITHINITNOWMYMOTHERDOESINDEEDSOMETIMESSENDFORASOOTHSAYERANDQUESTIONHIMBUTIGIVEHISPROPHECYINGSNOHEEDASFORTHESTRANGERHEWASMENTESSONOFANCHIALUSCHIEFOFTHETAPHIANSANOLDFRIENDOFMYFATHERSBUTINHISHEARTHEKNEWTHATITHADBEENTHEGODDESSTHESUITORSTHENRETURNEDTOTHEIRSINGINGANDDANCINGUNTILTHEEVENINGBUTWHENNIGHTFELLUPONTHEIRPLEASURINGTHEYWENTHOMETOBEDEACHINHISOWNABODETELEMACHUSSROOMWASHIGHUPINATOWERTHATLOOKEDONTOTHEOUTERCOURTHITHERTHENHEHIEDBROODINGANDFULLOFTHOUGHTAGOODOLDWOMANEURYCLEADAUGHTEROFOPSTHESONOFPISENORWENTBEFOREHIMWITHACOUPLEOFBLAZINGTORCHESLAERTESHADBOUGHTHERWITHHISOWNMONEYWHENSHEWASQUITEYOUNGHEGAVETHEWORTHOFTWENTYOXENFORHERANDSHEWEDASMUCHRESPECTTOHERINHISHOUSEHOLDASHEDIDTOHISOWNWEDDEDWIFEBUTHEDIDNOTTAKEHERTOHISBEDFORHEFEAREDHISWIFESRESENTMENTSHEITWASWHONOWLIGHTEDTELEMACHUSTOHISROOMANDSHELOVEDHIMBETTERTHANANYOFTHEOTHERWOMENINTHEHOUSEDIDFORSHEHADNURSEDHIMWHENHEWASABABYHEOPENEDTHEDOOROFHISBEDROOMANDSATDOWNUPONTHEBEDASHETOOKOFFHISSHIRTHEGAVEITTOTHEGOODOLDWOMANWHOFOLDEDITTIDILYUPANDHUNGITFORHIMOVERAPEGBYHISBEDSIDEAFTERWHICHSHEWENTOUTPULLEDTHEDOORTOBYASILVERCATCHANDDREWTHEBOLTHOMEBYMEANSOFTHESTRAPBUTTELEMACHUSASHELAYCOVEREDWITHAWOOLLENFLEECEKEPTTHINKINGALLNIGHTTHROUGHOFHISINTENDEDVOYAGEANDOFTHECOUNSELTHATMINERVAHADGIVENHI'"
   ]
  },
  {
   "cell_type": "code",
   "execution_count": 36,
   "metadata": {
    "collapsed": false
   },
   "outputs": [
    {
     "data": {
      "text/plain": [
       "16560"
      ]
     },
     "execution_count": 36,
     "metadata": {},
     "output_type": "execute_result"
    }
   ],
   "source": [
    "len(texto)"
   ]
  },
  {
   "cell_type": "code",
   "execution_count": 37,
   "metadata": {
    "collapsed": false
   },
   "outputs": [],
   "source": [
    "L_alf = list(alfb)"
   ]
  },
  {
   "cell_type": "markdown",
   "metadata": {},
   "source": [
    "Funciones de codificacion"
   ]
  },
  {
   "cell_type": "code",
   "execution_count": 38,
   "metadata": {
    "collapsed": true
   },
   "outputs": [],
   "source": [
    "def ord2(c):\n",
    "    return L_alf.index(c)"
   ]
  },
  {
   "cell_type": "code",
   "execution_count": 39,
   "metadata": {
    "collapsed": true
   },
   "outputs": [],
   "source": [
    "def chr2(n):\n",
    "    return L_alf[n]"
   ]
  },
  {
   "cell_type": "code",
   "execution_count": 40,
   "metadata": {
    "collapsed": true
   },
   "outputs": [],
   "source": [
    "def cadena(L):\n",
    "    cad='';\n",
    "    for x in L:\n",
    "        cad+=str(x);\n",
    "    return cad;"
   ]
  },
  {
   "cell_type": "code",
   "execution_count": 41,
   "metadata": {
    "collapsed": true
   },
   "outputs": [],
   "source": [
    "def codificar(texto):\n",
    "    texto_c = ''\n",
    "    L = map(ord2,list(texto))\n",
    "    for item in L:\n",
    "        L1 = ZZ(item).digits(base=2,padto=5)\n",
    "        L1.reverse()        ##los digitos estan en el orden contrario al que queremos\n",
    "        texto_c += cadena(L1)\n",
    "    return texto_c"
   ]
  },
  {
   "cell_type": "code",
   "execution_count": 42,
   "metadata": {
    "collapsed": true
   },
   "outputs": [],
   "source": [
    "def descodificar(texto_e):\n",
    "    l=len(texto_e);\n",
    "    texto_d = ''\n",
    "    cont=0;\n",
    "    L=[0,0,0,0,0];\n",
    "    while cont < l/5:\n",
    "        aux='';\n",
    "        aux=texto_e[5*cont:5*(cont+1)];\n",
    "        texto_d=texto_d+chr2(ZZ(aux,base=2));\n",
    "        cont+=1;\n",
    "    return texto_d;"
   ]
  },
  {
   "cell_type": "markdown",
   "metadata": {},
   "source": [
    "La funcion de codificacion funciona (iterativa)"
   ]
  },
  {
   "cell_type": "code",
   "execution_count": 43,
   "metadata": {
    "collapsed": false
   },
   "outputs": [
    {
     "data": {
      "text/plain": [
       "True"
      ]
     },
     "execution_count": 43,
     "metadata": {},
     "output_type": "execute_result"
    }
   ],
   "source": [
    "texto==descodificar(codificar(texto))"
   ]
  },
  {
   "cell_type": "markdown",
   "metadata": {},
   "source": [
    "_Funciones de encriptado_"
   ]
  },
  {
   "cell_type": "code",
   "execution_count": 44,
   "metadata": {
    "collapsed": true
   },
   "outputs": [],
   "source": [
    "def suma_s(c1,c2):\n",
    "    if (c1 == '0' and c2 == '0') or (c1 == '1' and c2 == '1'):\n",
    "        return '0'\n",
    "    else:\n",
    "        return '1'\n",
    "def encriptar(texto_c,clave):\n",
    "    texto_e = ''\n",
    "    for int in srange(len(texto_c)):\n",
    "        texto_e += suma_s(texto_c[int],clave[int%100])\n",
    "    return texto_e"
   ]
  },
  {
   "cell_type": "markdown",
   "metadata": {},
   "source": [
    "_Funciones de analisis de frecuencias_  \n",
    "**El unico cambio significativo lo hemos hecho en la funcion  en analisis de frecuencias 2 y creamos una funcion llamada encontrarX. Sabemos  que el caracter encontrado es la 'e', tenemos que buscar entonces lo 5 bits que al sumarselos a la e nos de el caracter encontrado, sera esta string en binario la que devolvera a la funcion buscar_clave que ira recopilando la clave. Ademas, en buscar_clave tenemos en cuenta que sera el numero de la clave/5 el numero de caracteres a los que se le va repitiendo la clave **"
   ]
  },
  {
   "cell_type": "code",
   "execution_count": 45,
   "metadata": {
    "collapsed": true
   },
   "outputs": [],
   "source": [
    "def cortar_texto(texto,nclave):\n",
    "    '''Almacenamos en C una lista con nclave cadenas de caracteres, cada una\n",
    "    contiene la parte del texto que se ha encriptado con la misma clave'''\n",
    "    C=[item for item in texto[:nclave]]\n",
    "    for i in srange(nclave):\n",
    "        for j in srange(nclave, len(texto)):\n",
    "            if j%nclave==i:\n",
    "                C[i] += texto[j]\n",
    "            else:\n",
    "                continue\n",
    "    return C\n"
   ]
  },
  {
   "cell_type": "code",
   "execution_count": 46,
   "metadata": {
    "collapsed": true
   },
   "outputs": [],
   "source": [
    "def analisis_frec(T):\n",
    "    frecuencias = {}\n",
    "    N = len(T)\n",
    "    for letra in T:\n",
    "        if letra in frecuencias:\n",
    "            frecuencias[letra] += (1/N).n()\n",
    "        else:\n",
    "            frecuencias[letra]=(1/N).n()\n",
    "    return frecuencias"
   ]
  },
  {
   "cell_type": "code",
   "execution_count": 47,
   "metadata": {
    "collapsed": true
   },
   "outputs": [],
   "source": [
    "def invertir(dicc):\n",
    "    dict_inv = {}\n",
    "    for key in dicc:\n",
    "        dict_inv[dicc[key]] = ord2(key)\n",
    "    return dict_inv"
   ]
  },
  {
   "cell_type": "code",
   "execution_count": 48,
   "metadata": {
    "collapsed": true
   },
   "outputs": [],
   "source": [
    "def analisis_frec_compl(T):\n",
    "    dicc = analisis_frec(T)\n",
    "    dicc2 = invertir(dicc)\n",
    "    L = dicc2.items()\n",
    "    L.sort(reverse=True)\n",
    "    return L"
   ]
  },
  {
   "cell_type": "code",
   "execution_count": 49,
   "metadata": {
    "collapsed": true
   },
   "outputs": [],
   "source": [
    "#funcion que dado un caracter devuelve la string binaria que al sumarsela a la string de 'E' nos da el caracter pasado\n",
    "def encontrarX(a):\n",
    "    ebin=codificar(\"E\");\n",
    "    abin=codificar(str(a));\n",
    "    for c in list(alfb):\n",
    "        suma='';\n",
    "        cbin=codificar(str(c));\n",
    "        for i in range(0,5):\n",
    "            suma+=suma_s(ebin[i],cbin[i]);\n",
    "        if(suma==abin):\n",
    "            return cbin;"
   ]
  },
  {
   "cell_type": "code",
   "execution_count": 50,
   "metadata": {
    "collapsed": true
   },
   "outputs": [],
   "source": [
    "#Ahora en este caso la funcion nos devolvera la letra que codifica los primeros 5 bits de clave y asi sucesivamente con cada parte\n",
    "def analisis_frec2(T):\n",
    "    dicc = analisis_frec(T)\n",
    "    dicc2 = invertir(dicc)\n",
    "    L = dicc2.items()\n",
    "    L.sort(reverse=True)\n",
    "    return encontrarX(chr2(L[0][1]));"
   ]
  },
  {
   "cell_type": "code",
   "execution_count": 51,
   "metadata": {
    "collapsed": true
   },
   "outputs": [],
   "source": [
    "def buscar_clave(texto_e,nclave):\n",
    "    ## Que el tamanio de la clave sea 100 implica que afecta cada 20 caracteres\n",
    "    num=nclave/5;\n",
    "    cortado = cortar_texto(texto_e,num)\n",
    "    clave = '';\n",
    "    for i in srange(num):\n",
    "        clave += analisis_frec2(cortado[i]);\n",
    "    return clave\n"
   ]
  },
  {
   "cell_type": "markdown",
   "metadata": {},
   "source": [
    "Probemos ahora si lo definido funciona:\n"
   ]
  },
  {
   "cell_type": "code",
   "execution_count": 52,
   "metadata": {
    "collapsed": false
   },
   "outputs": [],
   "source": [
    "#Tenemos encriptado y descodificado el texto\n",
    "enc=encriptar(codificar(texto),C);\n",
    "encDescod=descodificar(enc);"
   ]
  },
  {
   "cell_type": "code",
   "execution_count": 53,
   "metadata": {
    "collapsed": false
   },
   "outputs": [],
   "source": [
    "c1=buscar_clave(encDescod,100) #buscamos la clave"
   ]
  },
  {
   "cell_type": "code",
   "execution_count": 55,
   "metadata": {
    "collapsed": false
   },
   "outputs": [
    {
     "name": "stdout",
     "output_type": "stream",
     "text": [
      "1010011001110111111110110110010001011010011010001001101001100011111000000101110011010000000111010101\n"
     ]
    }
   ],
   "source": [
    "c1==C; print c1"
   ]
  },
  {
   "cell_type": "markdown",
   "metadata": {},
   "source": [
    "### Podemos ver que la busqueda de la clave en efecto funciona por analisis estadistico"
   ]
  }
 ],
 "metadata": {
  "kernelspec": {
   "display_name": "SageMath 7.3",
   "language": "",
   "name": "sagemath"
  },
  "language_info": {
   "codemirror_mode": {
    "name": "ipython",
    "version": 2
   },
   "file_extension": ".py",
   "mimetype": "text/x-python",
   "name": "python",
   "nbconvert_exporter": "python",
   "pygments_lexer": "ipython2",
   "version": "2.7.10"
  }
 },
 "nbformat": 4,
 "nbformat_minor": 0
}
