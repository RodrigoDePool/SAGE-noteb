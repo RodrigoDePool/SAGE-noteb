{
 "cells": [
  {
   "cell_type": "markdown",
   "metadata": {},
   "source": [
    "Ejercicio 1"
   ]
  },
  {
   "cell_type": "code",
   "execution_count": 1,
   "metadata": {
    "collapsed": true
   },
   "outputs": [],
   "source": [
    "#Cara == 1, Sello == 0. Sale cara con probabilidad p (argumento)\n",
    "def lanzamiento(p):\n",
    "    num = random();\n",
    "    if(num < p):\n",
    "        return 1;\n",
    "    return 0;"
   ]
  },
  {
   "cell_type": "code",
   "execution_count": 17,
   "metadata": {
    "collapsed": true
   },
   "outputs": [],
   "source": [
    "#Devuelve una str con n lanzamientos de moneda, donde la probabilidad de cara es p\n",
    "def lista_lanzamientos(n,p):\n",
    "    L = \"\";\n",
    "    for i in range(0,n):\n",
    "        L = L+ str(lanzamiento(p));\n",
    "    return L;"
   ]
  },
  {
   "cell_type": "code",
   "execution_count": 18,
   "metadata": {
    "collapsed": true
   },
   "outputs": [],
   "source": [
    "#Probabilidad de que salgan 10 caras seguidas \n",
    "def simulacion_10caras(r):\n",
    "    suma = 0;\n",
    "    caras = \"1111111111\";\n",
    "    for i in range(0,r):\n",
    "        if(caras in lista_lanzamientos(1000,1/2)):\n",
    "            suma = suma + 1;\n",
    "    return suma/r;\n",
    "        "
   ]
  },
  {
   "cell_type": "code",
   "execution_count": 27,
   "metadata": {
    "collapsed": false
   },
   "outputs": [
    {
     "data": {
      "text/plain": [
       "0.390000000000000"
      ]
     },
     "execution_count": 27,
     "metadata": {},
     "output_type": "execute_result"
    }
   ],
   "source": [
    "simulacion_10caras(1000).n()"
   ]
  },
  {
   "cell_type": "markdown",
   "metadata": {},
   "source": [
    "Parece que la probabilidad es de alrededor de 0.4. Luego \n",
    "0.4*X = 1;\n"
   ]
  },
  {
   "cell_type": "code",
   "execution_count": 29,
   "metadata": {
    "collapsed": false
   },
   "outputs": [
    {
     "name": "stdout",
     "output_type": "stream",
     "text": [
      "2.50000000000000\n"
     ]
    }
   ],
   "source": [
    "X =1/0.4;\n",
    "print X"
   ]
  },
  {
   "cell_type": "markdown",
   "metadata": {},
   "source": [
    "Deberian de pagar alrededor de 2.5 euros"
   ]
  },
  {
   "cell_type": "markdown",
   "metadata": {},
   "source": []
  },
  {
   "cell_type": "markdown",
   "metadata": {},
   "source": [
    "Ejercicio 2"
   ]
  },
  {
   "cell_type": "markdown",
   "metadata": {},
   "source": [
    "A cada numero 0 a N le corresponde su sombrero de 0 a N"
   ]
  },
  {
   "cell_type": "code",
   "execution_count": 86,
   "metadata": {
    "collapsed": false
   },
   "outputs": [],
   "source": [
    "def shuffle(L):\n",
    "    l = len(L);\n",
    "    for i in range(0,l):\n",
    "        num = randint(0,l-1);\n",
    "        L[i],L[num] = L[num],L[i];\n",
    "    return L;"
   ]
  },
  {
   "cell_type": "code",
   "execution_count": 91,
   "metadata": {
    "collapsed": true
   },
   "outputs": [],
   "source": [
    "def sombreros(N):\n",
    "    L = [i for i in range(0,N)];\n",
    "    L = shuffle(L);\n",
    "    for i in range(0,N):\n",
    "        if(L[i] == i):\n",
    "            return false;\n",
    "    return true;"
   ]
  },
  {
   "cell_type": "code",
   "execution_count": 117,
   "metadata": {
    "collapsed": false
   },
   "outputs": [],
   "source": [
    "def simulacion_sombreros(r,N):\n",
    "    suma = 0;\n",
    "    for i in range(0,r):\n",
    "        if(sombreros(N) == true):\n",
    "            suma = suma +1;\n",
    "    return suma/r;"
   ]
  },
  {
   "cell_type": "code",
   "execution_count": 146,
   "metadata": {
    "collapsed": false
   },
   "outputs": [
    {
     "data": {
      "text/plain": [
       "0.382000000000000"
      ]
     },
     "execution_count": 146,
     "metadata": {},
     "output_type": "execute_result"
    }
   ],
   "source": [
    "simulacion_sombreros(1000,5).n()"
   ]
  },
  {
   "cell_type": "markdown",
   "metadata": {},
   "source": [
    "Ejercicio 3"
   ]
  },
  {
   "cell_type": "code",
   "execution_count": 147,
   "metadata": {
    "collapsed": true
   },
   "outputs": [],
   "source": [
    "#Lista de N cumpleanios\n",
    "def lista_cumples(N):\n",
    "    L = [];\n",
    "    for i in range(0,N):\n",
    "        L.append(randint(1,365));\n",
    "    return L;"
   ]
  },
  {
   "cell_type": "code",
   "execution_count": 148,
   "metadata": {
    "collapsed": false
   },
   "outputs": [
    {
     "data": {
      "text/plain": [
       "[315, 252, 349, 181, 159, 205, 3, 288, 271, 85]"
      ]
     },
     "execution_count": 148,
     "metadata": {},
     "output_type": "execute_result"
    }
   ],
   "source": [
    "lista_cumples(10)"
   ]
  },
  {
   "cell_type": "code",
   "execution_count": 149,
   "metadata": {
    "collapsed": true
   },
   "outputs": [],
   "source": [
    "def experimento_cumples(N):\n",
    "    L = lista_cumples(N);\n",
    "    for i in range(0,N):\n",
    "        if(L.count(L[i]) > 1):\n",
    "            return true;\n",
    "    return false;"
   ]
  },
  {
   "cell_type": "code",
   "execution_count": 150,
   "metadata": {
    "collapsed": true
   },
   "outputs": [],
   "source": [
    "def simulacion_cumples(r,N):\n",
    "    suma = 0;\n",
    "    for i in range(0,r):\n",
    "        if(experimento_cumples(N) == true):\n",
    "            suma += 1;\n",
    "    return suma/r;"
   ]
  },
  {
   "cell_type": "code",
   "execution_count": 154,
   "metadata": {
    "collapsed": false
   },
   "outputs": [],
   "source": [
    "L = [simulacion_cumples(1000,N*10).n() for N in range(1,11)]"
   ]
  },
  {
   "cell_type": "code",
   "execution_count": 155,
   "metadata": {
    "collapsed": false
   },
   "outputs": [
    {
     "name": "stdout",
     "output_type": "stream",
     "text": [
      "[0.121000000000000, 0.387000000000000, 0.713000000000000, 0.881000000000000, 0.975000000000000, 0.991000000000000, 1.00000000000000, 0.999000000000000, 1.00000000000000, 1.00000000000000]\n"
     ]
    }
   ],
   "source": [
    "print L"
   ]
  }
 ],
 "metadata": {
  "kernelspec": {
   "display_name": "SageMath 7.3",
   "language": "",
   "name": "sagemath"
  },
  "language_info": {
   "codemirror_mode": {
    "name": "ipython",
    "version": 2
   },
   "file_extension": ".py",
   "mimetype": "text/x-python",
   "name": "python",
   "nbconvert_exporter": "python",
   "pygments_lexer": "ipython2",
   "version": "2.7.10"
  }
 },
 "nbformat": 4,
 "nbformat_minor": 0
}
