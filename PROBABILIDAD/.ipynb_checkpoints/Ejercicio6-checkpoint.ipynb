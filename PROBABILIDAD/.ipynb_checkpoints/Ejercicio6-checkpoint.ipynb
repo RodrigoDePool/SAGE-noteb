{
 "cells": [
  {
   "cell_type": "code",
   "execution_count": 2,
   "metadata": {
    "collapsed": false
   },
   "outputs": [],
   "source": [
    "#Funcion que se encarga del intercambio de energia entre dos particulas aleatorias de la lista L\n",
    "def intercambio(L):\n",
    "        l = len(L);\n",
    "        num1 = randint(0,l-1);\n",
    "        num2 = randint(0,l-1);\n",
    "        if(L[num1]<1): return L;\n",
    "        L[num1] = L[num1] - 1;\n",
    "        L[num2] = L[num2] + 1;\n",
    "        return L;"
   ]
  },
  {
   "cell_type": "code",
   "execution_count": null,
   "metadata": {
    "collapsed": true
   },
   "outputs": [],
   "source": [
    "def interaccion(n,t):\n",
    "    L = [5]*n;\n",
    "    for i in range(0,t):\n",
    "        "
   ]
  }
 ],
 "metadata": {
  "kernelspec": {
   "display_name": "SageMath 7.3",
   "language": "",
   "name": "sagemath"
  },
  "language_info": {
   "codemirror_mode": {
    "name": "ipython",
    "version": 2
   },
   "file_extension": ".py",
   "mimetype": "text/x-python",
   "name": "python",
   "nbconvert_exporter": "python",
   "pygments_lexer": "ipython2",
   "version": "2.7.10"
  }
 },
 "nbformat": 4,
 "nbformat_minor": 0
}
