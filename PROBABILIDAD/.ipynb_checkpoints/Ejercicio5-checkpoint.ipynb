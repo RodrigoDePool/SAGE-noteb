{
 "cells": [
  {
   "cell_type": "markdown",
   "metadata": {},
   "source": [
    "Ejercicio 1"
   ]
  },
  {
   "cell_type": "code",
   "execution_count": 1,
   "metadata": {
    "collapsed": true
   },
   "outputs": [],
   "source": [
    "#Cara == 1, Sello == 0. Sale cara con probabilidad p (argumento)\n",
    "def lanzamiento(p):\n",
    "    num = random();\n",
    "    if(num < p):\n",
    "        return 1;\n",
    "    return 0;"
   ]
  },
  {
   "cell_type": "code",
   "execution_count": 17,
   "metadata": {
    "collapsed": true
   },
   "outputs": [],
   "source": [
    "#Devuelve una str con n lanzamientos de moneda, donde la probabilidad de cara es p\n",
    "def lista_lanzamientos(n,p):\n",
    "    L = \"\";\n",
    "    for i in range(0,n):\n",
    "        L = L+ str(lanzamiento(p));\n",
    "    return L;"
   ]
  },
  {
   "cell_type": "code",
   "execution_count": 18,
   "metadata": {
    "collapsed": true
   },
   "outputs": [],
   "source": [
    "#Probabilidad de que salgan 10 caras seguidas \n",
    "def simulacion_10caras(r):\n",
    "    suma = 0;\n",
    "    caras = \"1111111111\";\n",
    "    for i in range(0,r):\n",
    "        if(caras in lista_lanzamientos(1000,1/2)):\n",
    "            suma = suma + 1;\n",
    "    return suma/r;\n",
    "        "
   ]
  },
  {
   "cell_type": "code",
   "execution_count": 27,
   "metadata": {
    "collapsed": false
   },
   "outputs": [
    {
     "data": {
      "text/plain": [
       "0.390000000000000"
      ]
     },
     "execution_count": 27,
     "metadata": {},
     "output_type": "execute_result"
    }
   ],
   "source": [
    "simulacion_10caras(1000).n()"
   ]
  },
  {
   "cell_type": "markdown",
   "metadata": {},
   "source": [
    "Parece que la probabilidad es de alrededor de 0.4. Luego \n",
    "0.4*X = 1;\n"
   ]
  },
  {
   "cell_type": "code",
   "execution_count": 29,
   "metadata": {
    "collapsed": false
   },
   "outputs": [
    {
     "name": "stdout",
     "output_type": "stream",
     "text": [
      "2.50000000000000\n"
     ]
    }
   ],
   "source": [
    "X =1/0.4;\n",
    "print X"
   ]
  },
  {
   "cell_type": "markdown",
   "metadata": {},
   "source": [
    "Deberian de pagar alrededor de 2.5 euros"
   ]
  },
  {
   "cell_type": "markdown",
   "metadata": {},
   "source": []
  },
  {
   "cell_type": "markdown",
   "metadata": {},
   "source": [
    "Ejercicio 2"
   ]
  },
  {
   "cell_type": "markdown",
   "metadata": {},
   "source": [
    "A cada numero 0 a N le corresponde su sombrero de 0 a N"
   ]
  },
  {
   "cell_type": "code",
   "execution_count": 86,
   "metadata": {
    "collapsed": false
   },
   "outputs": [],
   "source": [
    "def shuffle(L):\n",
    "    l = len(L);\n",
    "    for i in range(0,l):\n",
    "        num = randint(0,l-1);\n",
    "        L[i],L[num] = L[num],L[i];\n",
    "    return L;"
   ]
  },
  {
   "cell_type": "code",
   "execution_count": 75,
   "metadata": {
    "collapsed": true
   },
   "outputs": [],
   "source": [
    "def sombreros(N):\n",
    "    L = [i for i in range(0,N)];\n",
    "    L = shuffle(L);\n",
    "    for i in range(0,N):\n",
    "        if(L[i] == i):\n",
    "            return false;\n",
    "    return true;"
   ]
  },
  {
   "cell_type": "code",
   "execution_count": 90,
   "metadata": {
    "collapsed": false
   },
   "outputs": [
    {
     "name": "stdout",
     "output_type": "stream",
     "text": [
      "[0, 1]\n",
      "[0, 1]\n"
     ]
    },
    {
     "data": {
      "text/plain": [
       "False"
      ]
     },
     "execution_count": 90,
     "metadata": {},
     "output_type": "execute_result"
    }
   ],
   "source": [
    "sombreros(2)"
   ]
  }
 ],
 "metadata": {
  "kernelspec": {
   "display_name": "SageMath 7.3",
   "language": "",
   "name": "sagemath"
  },
  "language_info": {
   "codemirror_mode": {
    "name": "ipython",
    "version": 2
   },
   "file_extension": ".py",
   "mimetype": "text/x-python",
   "name": "python",
   "nbconvert_exporter": "python",
   "pygments_lexer": "ipython2",
   "version": "2.7.10"
  }
 },
 "nbformat": 4,
 "nbformat_minor": 0
}
