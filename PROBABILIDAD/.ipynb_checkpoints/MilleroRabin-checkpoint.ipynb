{
 "cells": [
  {
   "cell_type": "code",
   "execution_count": 17,
   "metadata": {
    "collapsed": true
   },
   "outputs": [],
   "source": [
    "#Dado un numero par 'n' te devuelve 's' y 'd' tal que n = d*2^s, donde d es impar\n",
    "def descompo_sd(n):\n",
    "    if(n%2!=0):\n",
    "        return 1;\n",
    "    L=list(n.factor());\n",
    "    s = L[0][1];\n",
    "    d = n/(2^s);\n",
    "    return [s,d];"
   ]
  },
  {
   "cell_type": "code",
   "execution_count": 137,
   "metadata": {
    "collapsed": false
   },
   "outputs": [],
   "source": [
    "#Prueba de miller rabin dado 'n' , 'd' y 'a' \n",
    "#si a^d == 1 mod n\n",
    "#devuelve 1 si pasa con exito la prueba y devuelve -1 si n no pasa la prueba\n",
    "def prueba1(n,d,a):\n",
    "    if(power_mod(a,d,n) == 1):\n",
    "        return 1;\n",
    "    return -1;\n",
    "#Prueba 2 de miller rabin\n",
    "#1 si pasa la prueba con exito y -1 si no\n",
    "def prueba2(n,d,a,s):\n",
    "    for j in srange(0,s):\n",
    "        if(power_mod(a,2^(j*d),n) == -1):\n",
    "            return 1;\n",
    "    return -1;\n",
    "        \n",
    "#Dado un numero n y t, prueba con probabiliad 1-(1/4)^t si n es primo\n",
    "#devuelve 1 si lo es con esa probabilidad, y devuelve 0 si no lo es.\n",
    "def miller_rabin(n,t):\n",
    "    L = descompo_sd(n-1);\n",
    "    if(L == 1): return 0;\n",
    "    s = L[0];\n",
    "    d = L[1];\n",
    "    for i in srange(0,t):\n",
    "        a = randint(0,n-1);\n",
    "        while(gcd(a,n) != 1):\n",
    "            a = randint(0,n-1);\n",
    "        if(prueba1(int(n),int(d),int(a)) == -1): \n",
    "            if(prueba2(n,d,a,s) == -1): \n",
    "                return 0;\n",
    "    return 1;"
   ]
  }
 ],
 "metadata": {
  "kernelspec": {
   "display_name": "SageMath 7.3",
   "language": "",
   "name": "sagemath"
  },
  "language_info": {
   "codemirror_mode": {
    "name": "ipython",
    "version": 2
   },
   "file_extension": ".py",
   "mimetype": "text/x-python",
   "name": "python",
   "nbconvert_exporter": "python",
   "pygments_lexer": "ipython2",
   "version": "2.7.10"
  }
 },
 "nbformat": 4,
 "nbformat_minor": 0
}
