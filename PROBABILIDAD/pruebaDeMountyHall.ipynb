{
 "cells": [
  {
   "cell_type": "code",
   "execution_count": 33,
   "metadata": {
    "collapsed": false
   },
   "outputs": [],
   "source": [
    "def juego_MH():\n",
    "    num = randint(0,2);\n",
    "    L = [0, 0, 0];\n",
    "    for j in range(0,3):\n",
    "        if(j == num):\n",
    "            L[j] = 1;\n",
    "    elec = randint(0,2);\n",
    "    quedan = [L[j] for j in range(0,3) if j!=elec];\n",
    "    num = randint(0,1);\n",
    "    if(quedan[num] == 1):\n",
    "        if(num ==1):\n",
    "            elec = 1;\n",
    "        else:\n",
    "            elec = 0;\n",
    "    else:\n",
    "        if(num ==1):\n",
    "            elec = 0;\n",
    "        else:\n",
    "            elec = 1;\n",
    "\n",
    "    return quedan[elec];"
   ]
  },
  {
   "cell_type": "code",
   "execution_count": 90,
   "metadata": {
    "collapsed": false
   },
   "outputs": [
    {
     "data": {
      "text/plain": [
       "0.669900000000000"
      ]
     },
     "execution_count": 90,
     "metadata": {},
     "output_type": "execute_result"
    }
   ],
   "source": [
    "([juego_MH() for muda in range(0,10000)].count(1)/10000).n()"
   ]
  }
 ],
 "metadata": {
  "kernelspec": {
   "display_name": "SageMath 7.3",
   "language": "",
   "name": "sagemath"
  },
  "language_info": {
   "codemirror_mode": {
    "name": "ipython",
    "version": 2
   },
   "file_extension": ".py",
   "mimetype": "text/x-python",
   "name": "python",
   "nbconvert_exporter": "python",
   "pygments_lexer": "ipython2",
   "version": "2.7.10"
  }
 },
 "nbformat": 4,
 "nbformat_minor": 0
}
