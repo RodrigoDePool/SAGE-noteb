{
 "cells": [
  {
   "cell_type": "markdown",
   "metadata": {},
   "source": [
    "### Cesar:  \n",
    "Algoritmo de encriptado con cesar, C es el texto, k es la clave. En este caso esta hecho con todos los caracteres de la tabla ascii. Podria cambiarse por los caracteres de 0 a 5 con los algoritmos de codificacion."
   ]
  },
  {
   "cell_type": "code",
   "execution_count": 1,
   "metadata": {
    "collapsed": true
   },
   "outputs": [],
   "source": [
    "#Algoritmo de encriptado\n",
    "def encriptar_cesar(C,k):\n",
    "    L = list(C)\n",
    "    L1 = map(ord,L)\n",
    "    L2 = [(item+k)%256 for item in L1]\n",
    "    C1 = join(map(chr,L2),sep = \"\")\n",
    "    return C1;\n",
    "# Podemos usar el mismo algoritmo para desencripta utilizando la clave 256-k"
   ]
  },
  {
   "cell_type": "markdown",
   "metadata": {},
   "source": [
    "### Vigenere usando mis propias funciones de codificacion (basadas en las del profesor)"
   ]
  },
  {
   "cell_type": "code",
   "execution_count": 3,
   "metadata": {
    "collapsed": true
   },
   "outputs": [],
   "source": [
    "#Codifica un texto donde a cada letra le asigna un numero entre 0 y 26 segun su orden alfabeticp\n",
    "from string import *\n",
    "def codif(texto):\n",
    "    L=[ord2(x) for x in limpiar(texto,alfb)];\n",
    "    return L;\n",
    "#Decodifica el texto\n",
    "def decodif(texto):\n",
    "    L=[chr2(x) for x in texto];\n",
    "    L=join(L,sep='');\n",
    "    return L;\n",
    "\n",
    "def encript_vig(texto, clave):\n",
    "    l = len(clave);\n",
    "    key=[ord2(x) for x in limpiar(clave,alfb)];\n",
    "    L1=codif(texto);\n",
    "    #En L2 guardaremos el texto encriptado y codificado\n",
    "    L2=[]\n",
    "    i=0;\n",
    "    for x in L1:\n",
    "        L2.append((x+key[i%l])%26);\n",
    "        i=i+1;\n",
    "    #L3 guardamos el texto encriptado y decodificado\n",
    "    L3=decodif(L2);\n",
    "    return L3;\n",
    "\n",
    "def dencript_vig(texto,clave):\n",
    "    l = len(clave);\n",
    "    key=[ord2(x) for x in limpiar(clave,alfb)];\n",
    "    L1=codif(texto);\n",
    "    #En L2 guardaremos el texto encriptado y codificado\n",
    "    L2=[]\n",
    "    i=0;\n",
    "    for x in L1:\n",
    "        L2.append((x-key[i%l])%26);\n",
    "        i=i+1;\n",
    "    #L3 guardamos el texto encriptado y decodificado\n",
    "    L3=decodif(L2);\n",
    "    return L3;"
   ]
  },
  {
   "cell_type": "markdown",
   "metadata": {},
   "source": [
    "### Rompiendo vigenere con analisis estadistico"
   ]
  },
  {
   "cell_type": "code",
   "execution_count": null,
   "metadata": {
    "collapsed": true
   },
   "outputs": [],
   "source": [
    "def cortar_texto(texto,nclave):\n",
    "    '''Almacenamos en C una lista con nclave cadenas de caracteres, cada una\n",
    "    contiene la parte del texto que se ha encriptado con la misma clave'''\n",
    "    C=[item for item in texto[:nclave]]\n",
    "    for i in srange(nclave):\n",
    "       for j in srange(len(texto)):\n",
    "            if j%nclave==i:\n",
    "                C[i] += texto[j]\n",
    "            else:\n",
    "                continue\n",
    "    return C"
   ]
  },
  {
   "cell_type": "code",
   "execution_count": null,
   "metadata": {
    "collapsed": true
   },
   "outputs": [],
   "source": [
    "def analisis_frec(T):\n",
    "    frecuencias = {}\n",
    "    N = len(T)\n",
    "    for letra in T:\n",
    "        if letra in frecuencias:\n",
    "            frecuencias[letra] += (1/N).n()\n",
    "        else:\n",
    "            frecuencias[letra]=(1/N).n()\n",
    "    return frecuencias\n",
    "def invertir(dicc):\n",
    "    dict_inv = {}\n",
    "    for key in dicc:\n",
    "        dict_inv[dicc[key]] = ord2(key)\n",
    "    return dict_inv"
   ]
  },
  {
   "cell_type": "code",
   "execution_count": null,
   "metadata": {
    "collapsed": true
   },
   "outputs": [],
   "source": [
    "def analisis_frec_compl(T):\n",
    "    dicc = analisis_frec(T)\n",
    "    dicc2 = invertir(dicc)\n",
    "    L = dicc2.items()\n",
    "    L.sort(reverse=True)\n",
    "    return L"
   ]
  },
  {
   "cell_type": "code",
   "execution_count": null,
   "metadata": {
    "collapsed": true
   },
   "outputs": [],
   "source": [
    "def analisis_frec2(T):\n",
    "    dicc = analisis_frec(T)\n",
    "    dicc2 = invertir(dicc)\n",
    "    L = dicc2.items()\n",
    "    L.sort(reverse=True)\n",
    "    return chr2(L[0][1]-4)\n",
    "#El 4 del final viene a restarle a la letra que sea el valor de la 'E' que es la mas comun en el ingles"
   ]
  },
  {
   "cell_type": "code",
   "execution_count": null,
   "metadata": {
    "collapsed": true
   },
   "outputs": [],
   "source": [
    "def buscar_clave(texto_e,nclave):\n",
    "    cortado = cortar_texto(texto_e,nclave)\n",
    "    clave = ''\n",
    "    for i in srange(nclave):\n",
    "        clave += analisis_frec2(cortado[i])\n",
    "    return clave\n",
    "#Busca la clave dada una longitud (la clava mas probable teniendo en cuenta que la 'E' es el caracter mas comun en el \n",
    "#ingles)"
   ]
  },
  {
   "cell_type": "code",
   "execution_count": null,
   "metadata": {
    "collapsed": true
   },
   "outputs": [],
   "source": [
    "#Va imprimiendo las posibles claves asumiendo longitudes entre 3 y 30\n",
    "def buscar_clave2(texto_e):\n",
    "    for int in srange(3,30):\n",
    "        clave = buscar_clave(texto_largo_e,int)\n",
    "        print clave"
   ]
  }
 ],
 "metadata": {
  "kernelspec": {
   "display_name": "SageMath 7.3",
   "language": "",
   "name": "sagemath"
  },
  "language_info": {
   "codemirror_mode": {
    "name": "ipython",
    "version": 2
   },
   "file_extension": ".py",
   "mimetype": "text/x-python",
   "name": "python",
   "nbconvert_exporter": "python",
   "pygments_lexer": "ipython2",
   "version": "2.7.10"
  }
 },
 "nbformat": 4,
 "nbformat_minor": 0
}
