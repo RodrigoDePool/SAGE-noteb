{
 "cells": [
  {
   "cell_type": "code",
   "execution_count": null,
   "metadata": {
    "collapsed": true
   },
   "outputs": [],
   "source": [
    "#Produce lista en orden de bajo a alto\n",
    "34.digits(base=32)"
   ]
  },
  {
   "cell_type": "code",
   "execution_count": 3,
   "metadata": {
    "collapsed": false
   },
   "outputs": [],
   "source": [
    "from string import *\n",
    "\n",
    "\n",
    "\n",
    "alfb = \"ABCDEFGHIJKLMNOPQRSTUVWXYZ .?!,; \"\n",
    "\n",
    "\n",
    "\n",
    "L_alfb = list(alfb)\n",
    "\n",
    "\n",
    "def limpiar(texto,alfb):\n",
    "    L = map(ord,[x.capitalize() for x in list(texto)])\n",
    "    L1 = [item for item in L if item in map(ord,[x for x in alfb])]\n",
    "    C1 = join(map(chr,L1),sep = \"\")\n",
    "    return C1\n",
    "\n",
    "\n",
    "def ord2(c):\n",
    "    return L_alfb.index(c)\n",
    "\n",
    "\n",
    "def chr2(n):\n",
    "    return L_alfb[n]\n",
    "\n",
    "def potenciaMod(a,k,m):\n",
    "    if k==0:\n",
    "        return 1\n",
    "    elif k %2 == 0:\n",
    "        b = potenciaMod(a,k/2,m)\n",
    "        return (b * b) %m\n",
    "    else:\n",
    "        b = potenciaMod(a,(k-1)/2,m)\n",
    "        return (a * b * b) %m"
   ]
  },
  {
   "cell_type": "code",
   "execution_count": 4,
   "metadata": {
    "collapsed": true
   },
   "outputs": [],
   "source": [
    "#Funcion que devuelve la codificacion m de un texto en base 10 \n",
    "def Mn(texto):\n",
    "    A=limpiar(texto,alfb);\n",
    "    if(len(A)>5):\n",
    "        return -1;\n",
    "    while(len(A)!=5):\n",
    "        A=A+\" \";\n",
    "    L32=[ord2(i) for i in A];\n",
    "    m=0;\n",
    "    for i in srange(0,l):\n",
    "        m=m+L32[i]*(32^i);\n",
    "    return m;\n",
    "\n",
    "#deshace la codificacion\n",
    "def decodeMn(num):\n",
    "    A=num.digits(base=32);\n",
    "    msj=\"\";\n",
    "    for x in A:\n",
    "        msj=msj+chr2(x);\n",
    "    return msj\n",
    "\n",
    "\n",
    "\n",
    "#Esquema de encriptacion \n",
    "def rsa(m,n,e):\n",
    "    return potenciaMod(m,e,n);\n",
    "\n",
    "#Esquema de desencriptado\n",
    "def decrsa(m,n,d):\n",
    "    return potenciaMod(m,d,n);"
   ]
  },
  {
   "cell_type": "code",
   "execution_count": 5,
   "metadata": {
    "collapsed": false
   },
   "outputs": [
    {
     "name": "stdout",
     "output_type": "stream",
     "text": [
      "[8, 15, 12, 1]\n"
     ]
    }
   ],
   "source": [
    "print [ord2(i) for i in limpiar(\"hola\",alfb)]"
   ]
  },
  {
   "cell_type": "code",
   "execution_count": 6,
   "metadata": {
    "collapsed": false
   },
   "outputs": [],
   "source": [
    "#Una primera prueba\n",
    "#primos de 3 cifras\n",
    "6367;\n",
    "9851;\n",
    "#nuestra clave publica\n",
    "n=6367*9851;\n",
    "#phi de nuestra clave publica\n",
    "phin=(6367-1)*(9851-1);\n",
    "#numero coprimo con n\n",
    "e=2131;\n",
    "#inverso de e modulo phin\n",
    "d=10475371;"
   ]
  },
  {
   "cell_type": "code",
   "execution_count": 7,
   "metadata": {
    "collapsed": false
   },
   "outputs": [
    {
     "name": "stdout",
     "output_type": "stream",
     "text": [
      "HOLAAA\n"
     ]
    }
   ],
   "source": [
    "a=rsa(Mn(\"holaaa\"),n,e);\n",
    "print decodeMn(decrsa(a,n,d))"
   ]
  },
  {
   "cell_type": "code",
   "execution_count": 28,
   "metadata": {
    "collapsed": false
   },
   "outputs": [
    {
     "name": "stdout",
     "output_type": "stream",
     "text": [
      "20128963\n",
      "20128963\n",
      "HOLAA\n"
     ]
    }
   ],
   "source": [
    "a=rsa(Mn(\"holaa\"),n,e);\n",
    "text= decodeMn(a);\n",
    "text2= Mn(text);\n",
    "print a;\n",
    "print text2;\n",
    "print decodeMn(decrsa(text2,n,d));"
   ]
  },
  {
   "cell_type": "code",
   "execution_count": 104,
   "metadata": {
    "collapsed": false
   },
   "outputs": [
    {
     "name": "stdout",
     "output_type": "stream",
     "text": [
      "33554431\n",
      "1073741823\n"
     ]
    }
   ],
   "source": [
    "#Ejercicio mandado por el profe\n",
    "sum=0;\n",
    "for i in xrange(0,6):\n",
    "    sum=sum+31*(32^i);\n",
    "    if(i==4):\n",
    "        print sum;\n",
    "print sum;"
   ]
  },
  {
   "cell_type": "code",
   "execution_count": 21,
   "metadata": {
    "collapsed": false
   },
   "outputs": [],
   "source": [
    "#Nuestros primos\n",
    "p1=33555397;\n",
    "p2=43583063;\n",
    "#clave publica\n",
    "n=43583063;\n",
    "#phi de nuestra clave publica\n",
    "phin=(p1-1)*(p2-1);\n",
    "#Numero coprimo con phin;\n",
    "#publico\n",
    "e=32555407;\n",
    "#su inverso\n",
    "d=inverse_mod(e,phin);\n"
   ]
  },
  {
   "cell_type": "code",
   "execution_count": 66,
   "metadata": {
    "collapsed": false
   },
   "outputs": [
    {
     "name": "stdout",
     "output_type": "stream",
     "text": [
      "38812959\n",
      "39697695\n",
      "O.UUW\n"
     ]
    }
   ],
   "source": [
    "a=rsa(Mn(\"TONTO\"),n,e);\n",
    "text=decodeMn(a);\n",
    "coded=Mn(text);\n",
    "print a;\n",
    "print coded;\n",
    "decriptedCode=decrsa(coded,n,d);\n",
    "Otext=decodeMn(decriptedCode);\n",
    "print Otext;"
   ]
  },
  {
   "cell_type": "code",
   "execution_count": 41,
   "metadata": {
    "collapsed": false
   },
   "outputs": [
    {
     "name": "stdout",
     "output_type": "stream",
     "text": [
      "39697695\n",
      "38812959\n"
     ]
    }
   ],
   "source": []
  }
 ],
 "metadata": {
  "kernelspec": {
   "display_name": "SageMath 7.3",
   "language": "",
   "name": "sagemath"
  },
  "language_info": {
   "codemirror_mode": {
    "name": "ipython",
    "version": 2
   },
   "file_extension": ".py",
   "mimetype": "text/x-python",
   "name": "python",
   "nbconvert_exporter": "python",
   "pygments_lexer": "ipython2",
   "version": "2.7.10"
  }
 },
 "nbformat": 4,
 "nbformat_minor": 0
}
