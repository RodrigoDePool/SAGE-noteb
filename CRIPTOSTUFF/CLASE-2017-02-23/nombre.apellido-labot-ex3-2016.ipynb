{
 "cells": [
  {
   "cell_type": "markdown",
   "metadata": {},
   "source": [
    "<p><span style=\"color: #ff0000;\">Por favor, antes de empezar el examen cambia el nombre de la hoja (File&gt;Rename worksheet) poniendo en lugar de \"nombre.apellido\" los tuyos tal como aparecen en tu direcci&oacute;n de correo electr&oacute;nico de la UAM. El final del nombre de la hoja, -labot-ex3-2016, dej&aacute;lo como est&aacute;.<br /></span></p>\n",
    "<p><span style=\"color: #ff0000;\">Una vez hayas terminado el examen, salva la hoja (File&gt;Save worksheet to a file....) y d&eacute;jala en la carpeta en tu escritorio que tiene&nbsp; nombre \"ENTREGA......\".</span></p>\n",
    "<h4><span style=\"color: #ff0000;\"><span style=\"color: #000000;\">Ejercicio 1</span><br /></span></h4>\n",
    "<p>(4 puntos) En la carpeta que contiene este archivo  se encuentra el el mismo *PALABRAS2* que se us&oacute; en la hoja 84-CRIPT-matricial-fuerzabruta para romper un sistema criptogr&aacute;fico mediante fuerza bruta.&nbsp; El archivo contiene una lista de palabras, una en cada l&iacute;nea, en ingl&eacute;s. Para hacer este ejercicio debes <span style=\"color: #ff0000;\">definir y ejecutar funciones</span> para responder a la siguiente pregunta:<span style=\"color: #ff0000;\"> &iquest;Cu&aacute;ntas tripletas de letras tienen la propiedad de aparecer al principio (es decir,&nbsp; como tripleta inicial) de todas las palabras de la lista PALABRAS2&nbsp; en que aparecen como tripleta de letras consecutivas en cualquier posici&oacute;n?<span id=\"cell_outer_7\"><span style=\"color: #ff0000;\"> No consideramos palabras en la lista de longitud cuatro o menor.&nbsp;</span></span></span></p>\n",
    "<p>Por ejemplo, en la lista aparece la palabra GEOMETRY y la tripleta MET no es una de las que podemos contar, es decir no contribuye a nuestro contador,&nbsp; porque aparece al menos una vez en una situaci&oacute;n que no es inicio de palabra.&nbsp;</p>\n",
    "<p>Para poder <span style=\"color: #ff0000;\">comprobar que el programa funciona bien</span>, modificarlo para que cada vez que se incremente el contador se a&ntilde;ada la clave a una lista, y luego <span style=\"color: #ff0000;\">efectuar varias comprobaciones convincentes (&iquest;A qu&eacute;n hay que convencer? &iquest;A qu&eacute;n va a ser? Pues a m&iacute;)</span>.</p>"
   ]
  },
  {
   "cell_type": "code",
   "execution_count": 363,
   "metadata": {
    "collapsed": true
   },
   "outputs": [],
   "source": [
    "def diccionario(L):\n",
    "    dicc = {}\n",
    "    infile = open(\"PALABRAS2\",\"r\")\n",
    "    for palabra in infile.readlines():\n",
    "        if len(palabra[:-1])<3:\n",
    "            '''Despreciamos palabras de 2 caracteres.'''\n",
    "            continue\n",
    "        elif dicc.has_key(palabra[:3]):\n",
    "           dicc[palabra[:3]].append(palabra[:-1])\n",
    "        else:\n",
    "            dicc[palabra[:3]]=[palabra[:-1]]\n",
    "    for palabra in L:\n",
    "        '''Este bucle es para añadir al diccionario unas pocas\n",
    "            palabras que podrían faltar. NO es importante'''\n",
    "        dicc[palabra]=[palabra]\n",
    "    infile.close()\n",
    "    return dicc"
   ]
  },
  {
   "cell_type": "code",
   "execution_count": 364,
   "metadata": {
    "collapsed": false
   },
   "outputs": [],
   "source": [
    "dicc=diccionario([])"
   ]
  },
  {
   "cell_type": "code",
   "execution_count": null,
   "metadata": {
    "collapsed": true
   },
   "outputs": [],
   "source": [
    "#funcion que busca si la tripleta esta en alguna otra palabra en el dicc\n",
    "def esta(trip,dicc):\n",
    "    for trip2 in dicc:\n",
    "        for word in dicc[trip2]:\n",
    "            aux=word[1:];\n",
    "            if(trip in aux):\n",
    "                return 1;\n",
    "    return 0"
   ]
  },
  {
   "cell_type": "code",
   "execution_count": 383,
   "metadata": {
    "collapsed": false
   },
   "outputs": [],
   "source": [
    "def funcion(dicc):\n",
    "    L=[];\n",
    "    flag=0;\n",
    "    \n",
    "           \n",
    "    return L;"
   ]
  },
  {
   "cell_type": "code",
   "execution_count": 384,
   "metadata": {
    "collapsed": true
   },
   "outputs": [],
   "source": [
    "L=funcion(dicc);"
   ]
  },
  {
   "cell_type": "code",
   "execution_count": 385,
   "metadata": {
    "collapsed": false
   },
   "outputs": [
    {
     "name": "stdout",
     "output_type": "stream",
     "text": [
      "[]\n"
     ]
    }
   ],
   "source": [
    "print L"
   ]
  },
  {
   "cell_type": "code",
   "execution_count": null,
   "metadata": {
    "collapsed": true
   },
   "outputs": [],
   "source": []
  },
  {
   "cell_type": "code",
   "execution_count": null,
   "metadata": {
    "collapsed": true
   },
   "outputs": [],
   "source": []
  },
  {
   "cell_type": "markdown",
   "metadata": {},
   "source": [
    "<h4>Ejercicio 2</h4>\n",
    "<p>(3 puntos) En este ejercicio hay que programar funciones para <span style=\"color: #ff0000;\">encriptar y desencriptar</span> <span style=\"color: #ff0000;\">(no se excluye</span> que la funci&oacute;n que sirve para encriptar tambi&eacute;n sirva para desencriptar) un texto usando el siguiente sistema cl&aacute;sico:&nbsp; La clave es un entero $d$ y una permutaci&oacute;n $\\pi$ del conjunto $X_d:=\\{1,2,\\dots,d\\}$ (i.e. una funci&oacute;n biyectiva de $X_d$ en $X_d$).&nbsp; Encriptamos dividiendo el texto en bloques de longitud $d$ y encriptando cada bloque colocando la letra que ocupa la posici&oacute;n $i$ en el lugar $\\pi(i)$. <span style=\"color: #ff0000;\">Debes comprobar</span> que funciona utilizando el texto suministrado. <span style=\"color: #ff0000;\">Observa</span> que la longitud del texto debe ser un m&uacute;ltiplo de $d$, y si no lo es debemos poner al final basura hasta que la longitud sea &nbsp;un m&uacute;ltiplo de $d$.&nbsp;</p>\n",
    "<p>En este sistema las frecuencias de las letras en el texto original y en el encriptado son iguales, de forma que no se puede atacar en la misma forma que la cifra de C&eacute;sar o la cifra de permutaci&oacute;n. &iquest;<span style=\"color: #ff0000;\">Qu&eacute; opinas</span> de la seguridad de este m&eacute;todo?</p>"
   ]
  },
  {
   "cell_type": "code",
   "execution_count": 89,
   "metadata": {
    "collapsed": false
   },
   "outputs": [],
   "source": [
    "texto1 = 'THROUGHTHEUSEOFABSTRACTIONANDLOGICALREASONINGMATHEMATICSDEVELOPEDFROMCO\\\n",
    "UNTINGCALCULATIONMEASUREMENTANDTHESYSTEMATICSTUDYOFTHESHAPESANDMOTIONSOF\\\n",
    "PHYSICALOBJECTSPRACTICALMATHEMATICSHASBEENAHUMANACTIVITYFORASFARBACKASWR\\\n",
    "ITTENRECORDSEXISTRIGOROUSARGUMENTSFIRSTAPPEAREDINGREEKMATHEMATICSMOSTNOT\\\n",
    "ABLYINEUCLIDSELEMENTSMATHEMATICSDEVELOPEDATARELATIVELYSLOWPACEUNTILTHERE\\\n",
    "NAISSANCEWHENMATHEMATICALINNOVATIONSINTERACTINGWITHNEWSCIENTIFICDISCOVER\\\n",
    "IESLEDTOARAPIDINCREASEINTHERATEOFMATHEMATICALDISCOVERYTHATCONTINUESTOTHE\\\n",
    "PRESENTDAYZ'"
   ]
  },
  {
   "cell_type": "code",
   "execution_count": 90,
   "metadata": {
    "collapsed": true
   },
   "outputs": [],
   "source": [
    "alfb = \"ABCDEFGHIJKLMNOPQRSTUVWXYZ\" #Caracteres permitidos"
   ]
  },
  {
   "cell_type": "code",
   "execution_count": 91,
   "metadata": {
    "collapsed": true
   },
   "outputs": [],
   "source": [
    "def ord2(c):\n",
    "    alfb = \"ABCDEFGHIJKLMNOPQRSTUVWXYZ\";\n",
    "    L_alfb = list(alfb);\n",
    "    return L_alfb.index(c);\n",
    "\n",
    "def chr2(n):\n",
    "    alfb = \"ABCDEFGHIJKLMNOPQRSTUVWXYZ\";\n",
    "    L_alfb = list(alfb);\n",
    "    return L_alfb[n]"
   ]
  },
  {
   "cell_type": "code",
   "execution_count": 378,
   "metadata": {
    "collapsed": true
   },
   "outputs": [],
   "source": [
    "## Genera una permutacion aleatoria dada un numero d\n",
    "def Perm(d):\n",
    "    L=range(0,d);\n",
    "    for i in range(0,d):\n",
    "        aux=L[i];\n",
    "        k=randint(0,d-1);\n",
    "        L[i]=L[k];\n",
    "        L[k]=aux;\n",
    "    return L;\n"
   ]
  },
  {
   "cell_type": "code",
   "execution_count": 140,
   "metadata": {
    "collapsed": false
   },
   "outputs": [],
   "source": [
    "#Convierte una string en una lista\n",
    "def strToList(msj):\n",
    "    L=[c for c in msj];\n",
    "    return L;\n",
    "#convierte una lista en strin\n",
    "def listToStr(L):\n",
    "    msj=\"\";\n",
    "    for c in L:\n",
    "        msj=msj+c;\n",
    "    return msj;"
   ]
  },
  {
   "cell_type": "code",
   "execution_count": 197,
   "metadata": {
    "collapsed": true
   },
   "outputs": [],
   "source": [
    "def encriptar(texto,perm,d):\n",
    "    while len(texto)%d!=0:\n",
    "        texto = texto + \"A\";\n",
    "    cont=0;\n",
    "    l=len(texto);\n",
    "    L=strToList(texto);\n",
    "    while cont<l:\n",
    "        S=L[cont:cont+d]\n",
    "        for i in range(0,d):\n",
    "            S[i],S[perm[i]]=S[perm[i]],S[i];\n",
    "        L[cont:cont+d]=S;\n",
    "        cont = cont+d;\n",
    "    return listToStr(L);\n",
    "        "
   ]
  },
  {
   "cell_type": "code",
   "execution_count": 375,
   "metadata": {
    "collapsed": false
   },
   "outputs": [],
   "source": [
    "def desencriptar(texto,perm,d):\n",
    "    cont=0;\n",
    "    l=len(texto);\n",
    "    L=strToList(texto);\n",
    "    while cont<l:\n",
    "        i=d-1;\n",
    "        S=L[cont:cont+d]\n",
    "        while i>=0:\n",
    "            S[i],S[perm[i]]=S[perm[i]],S[i];\n",
    "            i=i-1;\n",
    "        L[cont:cont+d]=S;\n",
    "        cont = cont+d;\n",
    "    return listToStr(L);"
   ]
  },
  {
   "cell_type": "code",
   "execution_count": 376,
   "metadata": {
    "collapsed": false
   },
   "outputs": [
    {
     "name": "stdout",
     "output_type": "stream",
     "text": [
      "HRTOUFTHHUESSGOAERTBCTAIOANADOLGENCLISARNIONMCTAHGEAEMISTEVDOPLEOIORMDCUCFTNNLAGULCAAENOMTESNIRMUATEDTNHMCSYTEEAUSISTYDTFTOHSMAHPEEAISDONNOTOFSPLEISCHAOSYJCBRPTCTAIHTMLACTESAAIMAHCBESENIUHMNAATATVCFYIRAOSKRBRAFCATAWISNETECROSGESXRITODIORSURRGAUIATNSMFREETPSRAPDIENAMEEKGMTIREAHSCTOSMTYUATBNLIIOECNSDLLEEMTASTMEAHCNMTEDSIVEELAADEAOTRVPLTELEISLYONTCAEWUTRPLHINEEISASETECWAHNMNAHMTAECAILTSONVIAITNNIORENCTAINCIWTNHENGSIWITEICFDRLOCVIEITSSEEAODAPRIANCNRDESEIITEARHEOTFAAHTEMMTIACLICSDVEORONAHTYCNSTIUTOTEHETPDAESNRTAAEZAYAAA\n"
     ]
    }
   ],
   "source": [
    "encript=encriptar(texto1,perm,20);\n",
    "print encript;"
   ]
  },
  {
   "cell_type": "code",
   "execution_count": 377,
   "metadata": {
    "collapsed": false
   },
   "outputs": [
    {
     "name": "stdout",
     "output_type": "stream",
     "text": [
      "THROUGHTHEUSEOFABSTRACTIONANDLOGICALREASONINGMATHEMATICSDEVELOPEDFROMCOUNTINGCALCULATIONMEASUREMENTANDTHESYSTEMATICSTUDYOFTHESHAPESANDMOTIONSOFPHYSICALOBJECTSPRACTICALMATHEMATICSHASBEENAHUMANACTIVITYFORASFARBACKASWRITTENRECORDSEXISTRIGOROUSARGUMENTSFIRSTAPPEAREDINGREEKMATHEMATICSMOSTNOTABLYINEUCLIDSELEMENTSMATHEMATICSDEVELOPEDATARELATIVELYSLOWPACEUNTILTHERENAISSANCEWHENMATHEMATICALINNOVATIONSINTERACTINGWITHNEWSCIENTIFICDISCOVERIESLEDTOARAPIDINCREASEINTHERATEOFMATHEMATICALDISCOVERYTHATCONTINUESTOTHEPRESENTDAYZAAAAAA\n"
     ]
    }
   ],
   "source": [
    "desenc=desencriptar(encript,perm,20);\n",
    "print desenc;"
   ]
  },
  {
   "cell_type": "markdown",
   "metadata": {},
   "source": [
    "Si d es corto, es especialmente inseguro. Se pueden realizar permutaciones hasta encontrar una que desencripte el codigo, ademas de que las personas somos capaces de leer parcialmente textos desorganziados\n",
    "Si d es grande, el desorden del texto sería total, además el numero de permutacione seria demasiado grande como para poder atacarlo de esa forma. A primera vista no se me ocurre ninguna forma de atacar a este metodo con d grandes(del tamanio del texto)"
   ]
  },
  {
   "cell_type": "code",
   "execution_count": null,
   "metadata": {
    "collapsed": true
   },
   "outputs": [],
   "source": []
  },
  {
   "cell_type": "code",
   "execution_count": null,
   "metadata": {
    "collapsed": true
   },
   "outputs": [],
   "source": []
  },
  {
   "cell_type": "markdown",
   "metadata": {},
   "source": [
    "<h4>Ejercicio 3</h4>\n",
    "<p>(3 puntos) En este otro ejercicio hay que encriptar, y desencriptar,&nbsp; un texto corto usando una variante de RSA que se explica a continuaci&oacute;n.&nbsp;</p>\n",
    "<ol>\n",
    "<li>En primer lugar <span style=\"color: #ff0000;\">necesitamos una funci&oacute;n, $raiz(c,p)$,</span> que reciba como argumentos un primo $p$ y un entero $0<c<p$ y devuelva una lista con las dos ra&iacute;ces cuadradas de $c$ en $\\mathbb{Z}_p$ si existen o bien una lista vac&iacute;a. Como sabemos, las dos ra&iacute;ces son opuestas una de la otra, es decir, se pueden representar mediante dos enteros positivos que suman $p$.&nbsp; <span style=\"color: #ff0000;\">Programa</span> una tal funci&oacute;n mediante un <span style=\"color: #ff0000;\">m&eacute;todo de fuerza bruta</span>.</li>\n",
    "<li><span style=\"color: #ff0000;\">Necesitamos una segunda funci&oacute;n, $chinodelresto(a,b,p,q)$,&nbsp;</span> que reciba como argumentos dos enteros positivos $a$ y $b$ y dos primos $p$ y $q$, y devuelva un entero $n$ tal que su resto m&oacute;dulo $p$ es igual al de $a$ y su resto m&oacute;dulo $q$ es igual al de $b$ .&nbsp; <span style=\"color: #ff0000;\">Programa</span> una tal funci&oacute;n mediante un <span style=\"color: #ff0000;\">m&eacute;todo de fuerza bruta</span>.</li>\n",
    "<li>Las funciones anteriores se usar&iacute;an para desencriptar, pero para valores grandes de $p$ y $q$ no servir&iacute;an. Sage dispone de funciones eficientes para hacer esto: para calcular las ra&iacute;ces cuadradas de $c$&nbsp; en $\\mathbb{Z}_p$ <span style=\"color: #ff0000;\">usamos la combinaci&oacute;n $R = Integers(p);Lp = R(c).sqrt(all=True)$</span> y $Lp$ ser&iacute;a la misma lista que nos devuelve <span style=\"color: #ff0000;\">$raiz(c,p)$</span>, y para calcular el $n$ que devuelve la funci&oacute;n <span style=\"color: #ff0000;\">$chinodelresto(a,b,p,q)$</span> basta usar la <span style=\"color: #ff0000;\">funci&oacute;n de Sage $crt(a,b,p,q)$ (teorema chino del resto)</span>.<span style=\"color: #ff0000;\"> OBSERVACI&Oacute;N IMPORTANTE: la primera funci&oacute;n devuelve un par de clases de restos y la segunda necesita que sus argumentos sean enteros. Para que la segunda funcione sobre lo que devuelve la primera hay que forzar las clases de restos al anillo de los enteros.&nbsp;</span></li>\n",
    "<li>Convertimos el texto en un entero&nbsp; (codificaci&oacute;n) con el mismo procedimiento que en RSA, con alfabeto de $26$ letras.</li>\n",
    "<li>Elegimos un entero suficientemente grande $n$ que sea el producto de dos primos distintos y bastante distantes. <span style=\"color: #ff0000;\">Este $n$ ser&aacute; la clave p&uacute;blica.</span> &iquest;Cu&aacute;n grande debe ser $n$? Igual que en RSA tiene que ser suficientemente grande para que todos los mensajes posibles de la longitud del que queremos encriptar, supongamos que es $N$,&nbsp; se puedan representar, mediante el paso 3,&nbsp; como un entero $m$ menor que $n$. <span style=\"color: #ff0000;\">No es necesario</span> definir funciones que generen los primos $p$ y $q$ aleatoriamente dentro de rangos grandes (&eacute;sto servir&iacute;a para generar claves seguras) sino que basta con encontrar primos que cumplan las condiciones requeridas en el punto 6.&nbsp;</li>\n",
    "<li><span style=\"color: #ff0000;\">Encriptamos $m$ elev&aacute;ndolo al cuadrado m&oacute;dulo $N$.</span> De la misma forma que en RSA, podemos convertir&nbsp; el entero resultante en texto (descodificaci&oacute;n)&nbsp; de $N+1$ caracteres si hemos tenido cuidado de elegir $n$ entre $26^N$ y $26^{N+1}.$ El texto resultante ser&aacute; el mensaje encriptado.</li>\n",
    "<li>La clave privada est&aacute; formada por los dos factores $(p,q)$ de $n$. Conocidos los dos primos y el mensaje encriptado $m_e:=m^2$, podemos <span style=\"color: #ff0000;\"><span><span style=\"color: #000000;\">calcular las ra&iacute;ces cuadradas</span><span style=\"color: #000000;\"> $a$ y $b$&nbsp;</span> <span style=\"color: #000000;\">de $m_e$ m&oacute;dulo $p$ y $q$ y aplicando la funci&oacute;n del teorema chino del resto recuperar $m$.&nbsp; Hay que tener en cuenta que como $m_e$ tiene dos ra&iacute;ces m&oacute;dulo $p$ y otras dos m&oacute;dulo $q$, en total hay cuatro pares de combinaciones de una ra&iacute;z m&oacute;dulo $p$ y otra m&oacute;dulo $q$, y s&oacute;lo uno de los cuatro posibles $m$ obtenidos es el correcto. &nbsp; Finalmente hay que descodificar los cuatro posibles $m$, como en RSA, para obtener cuatro textos y el que sea legible debe ser el correcto.&nbsp; </span></span></span></li>\n",
    "</ol>"
   ]
  },
  {
   "cell_type": "code",
   "execution_count": 353,
   "metadata": {
    "collapsed": false
   },
   "outputs": [
    {
     "name": "stdout",
     "output_type": "stream",
     "text": [
      "ESTEEXAMENESINHUMANOYSILOSENOVENGO\n",
      "34\n"
     ]
    }
   ],
   "source": [
    "texto = 'ESTEEXAMENESINHUMANOYSILOSENOVENGO';\n",
    "print texto;\n",
    "print len(texto);"
   ]
  },
  {
   "cell_type": "code",
   "execution_count": 332,
   "metadata": {
    "collapsed": true
   },
   "outputs": [],
   "source": [
    "def raiz(c,p):\n",
    "    L=[];\n",
    "    for i in range(0,p):\n",
    "        if((i*i)%p==c):\n",
    "            L.append(i);\n",
    "            L.append(p-i);\n",
    "            return L;\n",
    "    return L;"
   ]
  },
  {
   "cell_type": "code",
   "execution_count": 333,
   "metadata": {
    "collapsed": true
   },
   "outputs": [],
   "source": [
    "def chinodelresto(a,b,p,q):\n",
    "    num=max(p,q);\n",
    "    for i in range(0,num):\n",
    "        if(i%p==a and i%q==b):\n",
    "            return i;\n",
    "    return -1;\n",
    "        "
   ]
  },
  {
   "cell_type": "code",
   "execution_count": 334,
   "metadata": {
    "collapsed": true
   },
   "outputs": [],
   "source": [
    "from string import *\n",
    "\n",
    "\n",
    "\n",
    "alfb = \"ABCDEFGHIJKLMNOPQRSTUVWXYZ\"\n",
    "\n",
    "\n",
    "\n",
    "L_alfb = list(alfb)\n",
    "\n",
    "\n",
    "def ord2(c):\n",
    "    return L_alfb.index(c)\n",
    "\n",
    "\n",
    "def chr2(n):\n",
    "    return L_alfb[n]\n",
    "\n"
   ]
  },
  {
   "cell_type": "code",
   "execution_count": 335,
   "metadata": {
    "collapsed": true
   },
   "outputs": [],
   "source": [
    "#Numero Mn de longitud n\n",
    "def Mn(n):\n",
    "    a=0;\n",
    "    base=len(alfb);\n",
    "    m=len(alfb)-1;\n",
    "    for i in srange(0,n):\n",
    "       a+= m*base^i\n",
    "    return a;"
   ]
  },
  {
   "cell_type": "code",
   "execution_count": 336,
   "metadata": {
    "collapsed": true
   },
   "outputs": [],
   "source": [
    "def codifica(text,alfb):\n",
    "    L = list(text)\n",
    "    L1 = map(ord2,L)\n",
    "    m,i,base = 0,0,len(alfb)\n",
    "    for j in L1:\n",
    "        m += j*base^i\n",
    "        i += 1\n",
    "    return m\n",
    "\n",
    "from string import join\n",
    "def descodifica(m,alfb,N):#N es la longitud del mensaje\n",
    "    L = m.digits(base=len(alfb),padto=N) #padto N??\n",
    "    L.reverse\n",
    "    L1 = map(chr2,L)\n",
    "    return  join(L1,sep = '')"
   ]
  },
  {
   "cell_type": "code",
   "execution_count": 337,
   "metadata": {
    "collapsed": false
   },
   "outputs": [
    {
     "name": "stdout",
     "output_type": "stream",
     "text": [
      "34 1285564381113498051199127603629788201662311038975\n"
     ]
    }
   ],
   "source": [
    "#suponemos que todos los mensajes seran de longitud l\n",
    "l=len(texto);\n",
    "#con lo cual N es igual a \n",
    "N= Mn(l);\n",
    "print l, N"
   ]
  },
  {
   "cell_type": "code",
   "execution_count": 317,
   "metadata": {
    "collapsed": false
   },
   "outputs": [
    {
     "data": {
      "text/plain": [
       "49"
      ]
     },
     "execution_count": 317,
     "metadata": {},
     "output_type": "execute_result"
    }
   ],
   "source": [
    "len(N.digits())"
   ]
  },
  {
   "cell_type": "code",
   "execution_count": 297,
   "metadata": {
    "collapsed": false
   },
   "outputs": [],
   "source": [
    "p = random_prime(floor(sqrt(10^50)),lbound=floor(10^24));"
   ]
  },
  {
   "cell_type": "code",
   "execution_count": 298,
   "metadata": {
    "collapsed": false
   },
   "outputs": [],
   "source": [
    "q= random_prime(floor(sqrt(10^50)),lbound=floor(10^24));"
   ]
  },
  {
   "cell_type": "code",
   "execution_count": 299,
   "metadata": {
    "collapsed": false
   },
   "outputs": [
    {
     "name": "stdout",
     "output_type": "stream",
     "text": [
      "12106663039183637116726355229969384755251636964771\n"
     ]
    }
   ],
   "source": [
    "\n",
    "n = p*q;print n; #public key 1"
   ]
  },
  {
   "cell_type": "code",
   "execution_count": 338,
   "metadata": {
    "collapsed": false
   },
   "outputs": [
    {
     "data": {
      "text/plain": [
       "True"
      ]
     },
     "execution_count": 338,
     "metadata": {},
     "output_type": "execute_result"
    }
   ],
   "source": [
    "Mn(l+1) > n > Mn(l) "
   ]
  },
  {
   "cell_type": "markdown",
   "metadata": {},
   "source": [
    "### Esta ultima condicion tiene que cumplirse, para ello podemos generar los primos repetidas veces hasta que se cumpla"
   ]
  },
  {
   "cell_type": "code",
   "execution_count": 357,
   "metadata": {
    "collapsed": true
   },
   "outputs": [],
   "source": [
    "def rsaVar(texto,N1):\n",
    "    coded=codifica(texto,alfb);\n",
    "    encript=power_mod(coded,2,N1);\n",
    "    return descodifica(encript,alfb,len(texto));"
   ]
  },
  {
   "cell_type": "code",
   "execution_count": 358,
   "metadata": {
    "collapsed": false
   },
   "outputs": [
    {
     "name": "stdout",
     "output_type": "stream",
     "text": [
      "NFYRPDXIFYPOBLJGTGUKDLFKOQCETSOQFIE\n"
     ]
    }
   ],
   "source": [
    "enc=rsaVar(texto,n);\n",
    "print enc;"
   ]
  },
  {
   "cell_type": "code",
   "execution_count": 359,
   "metadata": {
    "collapsed": true
   },
   "outputs": [],
   "source": [
    "def desenc(enc,p,q):\n",
    "    mens=[];\n",
    "    codif=codifica(enc,alfb);\n",
    "    \n",
    "    R=Integers(p);\n",
    "    Lp=R(codif).sqrt(all=True);\n",
    "    R=Integers(q);\n",
    "    Lq=R(codif).sqrt(all=True);\n",
    "    \n",
    "    for a in Lp:\n",
    "        for b in Lq:\n",
    "            num=crt(int(a),int(b),p,q);\n",
    "            mens.append(descodifica(num,alfb,34));\n",
    "    return mens;"
   ]
  },
  {
   "cell_type": "code",
   "execution_count": 360,
   "metadata": {
    "collapsed": false
   },
   "outputs": [
    {
     "name": "stdout",
     "output_type": "stream",
     "text": [
      "PKBRYYUIDOGBYTOXZCPNMKDSVCQXLBXQPWI\n",
      "VWKTPMBAJJTWJKXQRHMHFWMUFUGQWRDCGIH\n",
      "YFKCNJUUYRRWWWYAVVPUFHZIEBOUDFYBQCC\n",
      "ESTEEXAMENESINHUMANOYSILOSENOVENGO\n"
     ]
    }
   ],
   "source": [
    "msj=desenc(enc,p,q);\n",
    "print msj[0];\n",
    "print msj[1];\n",
    "print msj[2];\n",
    "print msj[3];"
   ]
  },
  {
   "cell_type": "markdown",
   "metadata": {},
   "source": [
    "### Como podemos ver el ultimo es el mensaje desecncriptado"
   ]
  }
 ],
 "metadata": {
  "kernelspec": {
   "display_name": "SageMath 7.3",
   "language": "",
   "name": "sagemath"
  },
  "language_info": {
   "codemirror_mode": {
    "name": "ipython",
    "version": 2
   },
   "file_extension": ".py",
   "mimetype": "text/x-python",
   "name": "python",
   "nbconvert_exporter": "python",
   "pygments_lexer": "ipython2",
   "version": "2.7.10"
  }
 },
 "nbformat": 4,
 "nbformat_minor": 0
}
