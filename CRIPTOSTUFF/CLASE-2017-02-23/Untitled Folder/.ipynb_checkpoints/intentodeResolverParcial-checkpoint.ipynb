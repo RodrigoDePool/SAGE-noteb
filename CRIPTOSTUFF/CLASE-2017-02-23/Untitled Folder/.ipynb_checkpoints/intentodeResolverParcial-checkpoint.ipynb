{
 "cells": [
  {
   "cell_type": "markdown",
   "metadata": {},
   "source": [
    "### Ejercicio1"
   ]
  },
  {
   "cell_type": "code",
   "execution_count": 6,
   "metadata": {
    "collapsed": false
   },
   "outputs": [],
   "source": [
    "#Funcion devuelve una lista con los factores primos de un numero\n",
    "def list_primes(p):\n",
    "    return [a for (a,b) in list(p.factor())];"
   ]
  },
  {
   "cell_type": "code",
   "execution_count": 51,
   "metadata": {
    "collapsed": false
   },
   "outputs": [],
   "source": [
    "def generador0(p):\n",
    "    L=list_primes(p-1);\n",
    "    for i in srange(2,p):\n",
    "        flag=0;\n",
    "        for j in L:\n",
    "            if(power_mod(int(i),int((p-1)/j),int(p))==1):\n",
    "                flag=1;\n",
    "        if(flag==0):\n",
    "            return i;\n",
    "    return -1;"
   ]
  },
  {
   "cell_type": "code",
   "execution_count": 112,
   "metadata": {
    "collapsed": true
   },
   "outputs": [],
   "source": [
    "def generador(p):\n",
    "    L=list_primes(p-1);\n",
    "    n=0;\n",
    "    while n<10^9:\n",
    "        i=randint(2,p-1);\n",
    "        flag=0;\n",
    "        for j in L:\n",
    "            if(power_mod(int(i),int((p-1)/j),int(p))==1):\n",
    "                flag=1;\n",
    "        if(flag==0):\n",
    "            return i;\n",
    "        n=n+1;\n",
    "    return -1;"
   ]
  },
  {
   "cell_type": "code",
   "execution_count": 71,
   "metadata": {
    "collapsed": true
   },
   "outputs": [],
   "source": [
    "def comprobar(g,p):\n",
    "    L=[];\n",
    "    i=1;\n",
    "    aux=power_mod(g,i,p);\n",
    "    while i<p and aux not in L:\n",
    "        L.append(aux);\n",
    "        i=i+1;\n",
    "        aux=power_mod(g,i,p);\n",
    "    if(len(L)==p-1):\n",
    "        return true;\n",
    "    return false;"
   ]
  },
  {
   "cell_type": "code",
   "execution_count": 110,
   "metadata": {
    "collapsed": false
   },
   "outputs": [
    {
     "data": {
      "text/plain": [
       "True"
      ]
     },
     "execution_count": 110,
     "metadata": {},
     "output_type": "execute_result"
    }
   ],
   "source": [
    "comprobar(generador(nth_prime(3333)),nth_prime(3333));"
   ]
  },
  {
   "cell_type": "markdown",
   "metadata": {},
   "source": [
    "### Ejercicio 2"
   ]
  },
  {
   "cell_type": "code",
   "execution_count": 111,
   "metadata": {
    "collapsed": true
   },
   "outputs": [],
   "source": [
    "p=next_prime(26^128);"
   ]
  },
  {
   "cell_type": "code",
   "execution_count": 126,
   "metadata": {
    "collapsed": true
   },
   "outputs": [],
   "source": [
    "\n",
    "def clavesA():\n",
    "    L=[];\n",
    "    aux=generador(p);\n",
    "    L.append(aux);#El primer argumento es g\n",
    "    aux=randint(1,p-1);\n",
    "    L.append(aux);#El segundo argumento es eA\n",
    "    aux=power_mod(L[0],aux,p);\n",
    "    L.append(aux);#El tercer argumento es g^eA % p\n",
    "    return L;\n",
    "def clavesB(g):\n",
    "    L=[];\n",
    "    aux=randint(1,p-1);\n",
    "    L.append(aux);#primer argumento es eB\n",
    "    aux=power_mod(g,aux,p);\n",
    "    L.append(aux);#segundo argumento es g^eB % p\n",
    "    return L;\n",
    "def clave():\n",
    "    L1=clavesA();\n",
    "    L2=clavesB(L[0]);\n",
    "    return power_mod(L1[2],L2[0],p);"
   ]
  },
  {
   "cell_type": "markdown",
   "metadata": {},
   "source": [
    "### Ejercicio 3"
   ]
  },
  {
   "cell_type": "code",
   "execution_count": 128,
   "metadata": {
    "collapsed": true
   },
   "outputs": [],
   "source": [
    "alfb = \"ABCDEFGHIJKLMNOPQRSTUVWXYZ\";\n",
    "\n",
    "L_alfb = list(alfb);\n",
    "\n",
    "texto='THROUGHTHEUSEOFABSTRACTIONANDLOGICALREASONINGMATHEMATICSDEVELOPED\\\n",
    "FROMCOUNTINGCALCULATIONMEASUREMENTANDTHESYSTEMATICSTUDYOFTHESHAPESANDMOT\\\n",
    "IONSOFPHYSICALOBJECTSPRACTICALMATHEMATICSHASBEENAHUMANACTIVITYFORASFARBA\\\n",
    "CKASWRITTENRECORDSEXISTRIGOROUSARGUMENTSFIRSTAPPEAREDINGREEKMATHEMATICSM\\\n",
    "OSTNOTABLYINEUCLIDSELEMENTSMATHEMATICSDEVELOPEDATARELATIVELYSLOWPACEUNTI\\\n",
    "LTHERENAISSANCEWHENMATHEMATICALINNOVATIONSINTERACTINGWITHNEWSCIENTIFICDI\\\n",
    "SCOVERIESLEDTOARAPIDINCREASEINTHERATEOFMATHEMATICALDISCOVERYTHATCONTINUE\\\n",
    "STOTHEPRESENTDAY';\n",
    "\n",
    "def ord2(c):\n",
    "    return L_alfb.index(c);\n",
    "\n",
    "def chr2(n):\n",
    "    return L_alfb[n];"
   ]
  },
  {
   "cell_type": "code",
   "execution_count": 165,
   "metadata": {
    "collapsed": false
   },
   "outputs": [],
   "source": [
    "# Dada una lista elimina las repeticiones manteniendo el orden\n",
    "def elim_reps(L):\n",
    "    S=[]\n",
    "    for elem in L:\n",
    "        aux=L.count(elem);\n",
    "        if((aux,elem) not in S):\n",
    "            S.append((aux,elem));\n",
    "    for (cont,elem) in S:\n",
    "        for j in srange(0,cont-1):\n",
    "            L.remove(elem);\n",
    "    return L;"
   ]
  },
  {
   "cell_type": "code",
   "execution_count": 141,
   "metadata": {
    "collapsed": false
   },
   "outputs": [],
   "source": [
    "def claveperm(k):\n",
    "    L=k.digits(base=26);\n",
    "    L=elim_reps(L);\n",
    "    S1=set(L);\n",
    "    S2=set(srange(26));\n",
    "    if(S1==S2):\n",
    "        return L;\n",
    "    return [];"
   ]
  },
  {
   "cell_type": "code",
   "execution_count": 186,
   "metadata": {
    "collapsed": false
   },
   "outputs": [],
   "source": [
    "L=claveperm(clave());"
   ]
  },
  {
   "cell_type": "code",
   "execution_count": 190,
   "metadata": {
    "collapsed": false
   },
   "outputs": [
    {
     "ename": "IndexError",
     "evalue": "list index out of range",
     "output_type": "error",
     "traceback": [
      "\u001b[1;31m---------------------------------------------------------------------------\u001b[0m",
      "\u001b[1;31mIndexError\u001b[0m                                Traceback (most recent call last)",
      "\u001b[1;32m<ipython-input-190-e78477e98e4c>\u001b[0m in \u001b[0;36m<module>\u001b[1;34m()\u001b[0m\n\u001b[1;32m----> 1\u001b[1;33m \u001b[0mL\u001b[0m\u001b[1;33m[\u001b[0m\u001b[0mInteger\u001b[0m\u001b[1;33m(\u001b[0m\u001b[1;36m26\u001b[0m\u001b[1;33m)\u001b[0m\u001b[1;33m]\u001b[0m\u001b[1;33m\u001b[0m\u001b[0m\n\u001b[0m",
      "\u001b[1;31mIndexError\u001b[0m: list index out of range"
     ]
    }
   ],
   "source": [
    "L[26]"
   ]
  },
  {
   "cell_type": "code",
   "execution_count": 206,
   "metadata": {
    "collapsed": false
   },
   "outputs": [],
   "source": [
    "def encriptado(texto1,k):\n",
    "    Perm=claveperm(k);\n",
    "    if(len(Perm)!=26):\n",
    "        return \"Ha habido un error\";\n",
    "    msjL=[Perm[ord2(a)] for a in texto1];\n",
    "    msjenc=\"\";\n",
    "    for c in msjL:\n",
    "        msjenc=msjenc + chr2(c);\n",
    "    return msjenc;"
   ]
  },
  {
   "cell_type": "code",
   "execution_count": 209,
   "metadata": {
    "collapsed": true
   },
   "outputs": [],
   "source": [
    "def desencriptado(texto1,k):\n",
    "    Perm=claveperm(k);\n",
    "    if(len(Perm)!=26):\n",
    "        return \"Ha habido un error\";\n",
    "    msjL=[Perm.index(ord2(c)) for c in texto1];\n",
    "    msj=\"\";\n",
    "    for c in msjL:\n",
    "        msj=msj+chr2(c);\n",
    "    return msj;"
   ]
  },
  {
   "cell_type": "code",
   "execution_count": 210,
   "metadata": {
    "collapsed": false
   },
   "outputs": [],
   "source": [
    "k=clave();\n"
   ]
  },
  {
   "cell_type": "code",
   "execution_count": 213,
   "metadata": {
    "collapsed": false
   },
   "outputs": [
    {
     "name": "stdout",
     "output_type": "stream",
     "text": [
      "SBIULCBSBTLWTUJYDWSIYESHUFYFMPUCHEYPITYWUFHFCAYSBTAYSHEWMTVTPUQTMJIUAEULFSHFCEYPELPYSHUFATYWLITATFSYFMSBTWKWSTAYSHEWSLMKUJSBTWBYQTWYFMAUSHUFWUJQBKWHEYPUDOTESWQIYESHEYPAYSBTAYSHEWBYWDTTFYBLAYFYESHVHSKJUIYWJYIDYERYWXIHSSTFITEUIMWTZHWSIHCUIULWYICLATFSWJHIWSYQQTYITMHFCITTRAYSBTAYSHEWAUWSFUSYDPKHFTLEPHMWTPTATFSWAYSBTAYSHEWMTVTPUQTMYSYITPYSHVTPKWPUXQYETLFSHPSBTITFYHWWYFETXBTFAYSBTAYSHEYPHFFUVYSHUFWHFSTIYESHFCXHSBFTXWEHTFSHJHEMHWEUVTIHTWPTMSUYIYQHMHFEITYWTHFSBTIYSTUJAYSBTAYSHEYPMHWEUVTIKSBYSEUFSHFLTWSUSBTQITWTFSMYK\n"
     ]
    }
   ],
   "source": [
    "texto1=encriptado(texto,k);\n",
    "print texto1;"
   ]
  },
  {
   "cell_type": "code",
   "execution_count": 214,
   "metadata": {
    "collapsed": false
   },
   "outputs": [
    {
     "name": "stdout",
     "output_type": "stream",
     "text": [
      "THROUGHTHEUSEOFABSTRACTIONANDLOGICALREASONINGMATHEMATICSDEVELOPEDFROMCOUNTINGCALCULATIONMEASUREMENTANDTHESYSTEMATICSTUDYOFTHESHAPESANDMOTIONSOFPHYSICALOBJECTSPRACTICALMATHEMATICSHASBEENAHUMANACTIVITYFORASFARBACKASWRITTENRECORDSEXISTRIGOROUSARGUMENTSFIRSTAPPEAREDINGREEKMATHEMATICSMOSTNOTABLYINEUCLIDSELEMENTSMATHEMATICSDEVELOPEDATARELATIVELYSLOWPACEUNTILTHERENAISSANCEWHENMATHEMATICALINNOVATIONSINTERACTINGWITHNEWSCIENTIFICDISCOVERIESLEDTOARAPIDINCREASEINTHERATEOFMATHEMATICALDISCOVERYTHATCONTINUESTOTHEPRESENTDAY\n"
     ]
    }
   ],
   "source": [
    "print desencriptado(texto1,k)"
   ]
  }
 ],
 "metadata": {
  "kernelspec": {
   "display_name": "SageMath 7.3",
   "language": "",
   "name": "sagemath"
  },
  "language_info": {
   "codemirror_mode": {
    "name": "ipython",
    "version": 2
   },
   "file_extension": ".py",
   "mimetype": "text/x-python",
   "name": "python",
   "nbconvert_exporter": "python",
   "pygments_lexer": "ipython2",
   "version": "2.7.10"
  }
 },
 "nbformat": 4,
 "nbformat_minor": 0
}
