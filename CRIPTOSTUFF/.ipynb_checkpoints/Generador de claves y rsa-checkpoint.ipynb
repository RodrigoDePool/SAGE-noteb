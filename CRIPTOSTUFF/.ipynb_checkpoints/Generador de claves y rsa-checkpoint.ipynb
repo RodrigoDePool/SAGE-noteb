{
 "cells": [
  {
   "cell_type": "markdown",
   "metadata": {
    "collapsed": true
   },
   "source": [
    "### Generacion de claves\n"
   ]
  },
  {
   "cell_type": "code",
   "execution_count": 134,
   "metadata": {
    "collapsed": false
   },
   "outputs": [],
   "source": [
    "p = random_prime(floor(sqrt(10^9)),lbound=10^3); # random prime between lbound and the first argument"
   ]
  },
  {
   "cell_type": "code",
   "execution_count": 135,
   "metadata": {
    "collapsed": true
   },
   "outputs": [],
   "source": [
    "q= random_prime(floor(sqrt(10^9)),lbound=10^3);"
   ]
  },
  {
   "cell_type": "code",
   "execution_count": 136,
   "metadata": {
    "collapsed": false
   },
   "outputs": [
    {
     "name": "stdout",
     "output_type": "stream",
     "text": [
      "481616197\n"
     ]
    }
   ],
   "source": [
    "n = p*q;print n; #public key 1"
   ]
  },
  {
   "cell_type": "code",
   "execution_count": 137,
   "metadata": {
    "collapsed": false
   },
   "outputs": [
    {
     "name": "stdout",
     "output_type": "stream",
     "text": [
      "-5196\n"
     ]
    }
   ],
   "source": [
    "print p-q; #diferencia grande para que sea fiable"
   ]
  },
  {
   "cell_type": "code",
   "execution_count": 142,
   "metadata": {
    "collapsed": true
   },
   "outputs": [],
   "source": [
    "Phi = (p-1)*(q-1) #funcion euler de n"
   ]
  },
  {
   "cell_type": "code",
   "execution_count": 143,
   "metadata": {
    "collapsed": true
   },
   "outputs": [],
   "source": [
    "#Busccamos un numero invertible modulo phi\n",
    "def invertible(Phi):\n",
    "    for int in xsrange(16^7,16^10):\n",
    "        if gcd(int,Phi)==1:\n",
    "            return int,xgcd(int,Phi)\n",
    "            break"
   ]
  },
  {
   "cell_type": "code",
   "execution_count": 144,
   "metadata": {
    "collapsed": false
   },
   "outputs": [
    {
     "data": {
      "text/plain": [
       "(268435457, (1, -153089407, 85334332))"
      ]
     },
     "execution_count": 144,
     "metadata": {},
     "output_type": "execute_result"
    }
   ],
   "source": [
    "SOL = invertible(Phi);SOL "
   ]
  },
  {
   "cell_type": "code",
   "execution_count": 145,
   "metadata": {
    "collapsed": false
   },
   "outputs": [
    {
     "data": {
      "text/plain": [
       "1"
      ]
     },
     "execution_count": 145,
     "metadata": {},
     "output_type": "execute_result"
    }
   ],
   "source": [
    "(SOL[0]*SOL[1][1])%Phi #Sol[0] sera clave publica y sol[1][1] sera [privada]"
   ]
  },
  {
   "cell_type": "code",
   "execution_count": 146,
   "metadata": {
    "collapsed": false
   },
   "outputs": [
    {
     "name": "stdout",
     "output_type": "stream",
     "text": [
      "328482593\n"
     ]
    }
   ],
   "source": [
    "clave_pr=SOL[1][1]%Phi;print clave_pr"
   ]
  },
  {
   "cell_type": "code",
   "execution_count": 148,
   "metadata": {
    "collapsed": false
   },
   "outputs": [
    {
     "data": {
      "text/plain": [
       "True"
      ]
     },
     "execution_count": 148,
     "metadata": {},
     "output_type": "execute_result"
    }
   ],
   "source": [
    "10^9 > n > 10^8 #Deben cumplirse para qie sea fiable\n",
    "#Hay un ejemploc on claves del orden de 16^65 en la carpeta del 23 en el fichero de la firma digital"
   ]
  },
  {
   "cell_type": "markdown",
   "metadata": {},
   "source": [
    "### Recordemos que para la clave funcione n tiene que ser mas grande que el numero Mn"
   ]
  },
  {
   "cell_type": "code",
   "execution_count": 149,
   "metadata": {
    "collapsed": false
   },
   "outputs": [],
   "source": [
    "alfb = \"ABCDEFGHIJKLMNOPQRSTUVWXYZ .?!,; \"\n",
    "#Numero Mn de longitud n\n",
    "def Mn(n):\n",
    "    a=0;\n",
    "    base=len(alfb);\n",
    "    m=len(alfb)-1;\n",
    "    for i in srange(0,n):\n",
    "       a+= m*base^i\n",
    "    return a;"
   ]
  },
  {
   "cell_type": "code",
   "execution_count": 150,
   "metadata": {
    "collapsed": false
   },
   "outputs": [
    {
     "data": {
      "text/plain": [
       "39135392"
      ]
     },
     "execution_count": 150,
     "metadata": {},
     "output_type": "execute_result"
    }
   ],
   "source": [
    "Mn(5)"
   ]
  },
  {
   "cell_type": "markdown",
   "metadata": {},
   "source": [
    "### Encriptacion rsa\n"
   ]
  },
  {
   "cell_type": "code",
   "execution_count": 60,
   "metadata": {
    "collapsed": false
   },
   "outputs": [],
   "source": [
    "from string import *\n",
    "\n",
    "\n",
    "\n",
    "alfb = \"ABCDEFGHIJKLMNOPQRSTUVWXYZ .?!,; \"\n",
    "\n",
    "\n",
    "\n",
    "L_alfb = list(alfb)\n",
    "\n",
    "\n",
    "def limpiar(texto,alfb):\n",
    "    L = map(ord,[x.capitalize() for x in list(texto)])\n",
    "    L1 = [item for item in L if item in map(ord,[x for x in alfb])]\n",
    "    C1 = join(map(chr,L1),sep = \"\")\n",
    "    return C1\n",
    "\n",
    "\n",
    "def ord2(c):\n",
    "    return L_alfb.index(c)\n",
    "\n",
    "\n",
    "def chr2(n):\n",
    "    return L_alfb[n]\n",
    "\n"
   ]
  },
  {
   "cell_type": "code",
   "execution_count": 61,
   "metadata": {
    "collapsed": true
   },
   "outputs": [],
   "source": [
    "def codifica(text,alfb):\n",
    "    L = list(text)\n",
    "    L1 = map(ord2,L)\n",
    "    m,i,base = 0,0,len(alfb)\n",
    "    for j in L1:\n",
    "        m += j*base^i\n",
    "        i += 1\n",
    "    return m\n",
    "\n",
    "from string import join\n",
    "def descodifica(m,alfb,N):#N es la longitud del mensaje\n",
    "    L = m.digits(base=len(alfb),padto=N) #padto N??\n",
    "    L.reverse\n",
    "    L1 = map(chr2,L)\n",
    "    return  join(L1,sep = '')\n",
    "    \n",
    "#Esquema de encriptacion \n",
    "def rsa(m,e,n):\n",
    "    return power_mod(m,e,n);\n",
    "\n",
    "#Esquema de desencriptado\n",
    "def decrsa(m,d,n):\n",
    "    return power_mod(m,d,n);"
   ]
  },
  {
   "cell_type": "code",
   "execution_count": 151,
   "metadata": {
    "collapsed": false
   },
   "outputs": [
    {
     "name": "stdout",
     "output_type": "stream",
     "text": [
      "ZZZZZ\n"
     ]
    }
   ],
   "source": [
    "a=rsa(codifica(limpiar(\"ZZZZZ\",alfb),alfb),clave_pr,n);\n",
    "print descodifica(decrsa(a,SOL[0],n),alfb,len(\"tonto\"))"
   ]
  },
  {
   "cell_type": "markdown",
   "metadata": {
    "collapsed": false
   },
   "source": [
    "### Veamos el mensaje descodificado pero no desencriptado"
   ]
  },
  {
   "cell_type": "code",
   "execution_count": 152,
   "metadata": {
    "collapsed": false
   },
   "outputs": [
    {
     "name": "stdout",
     "output_type": "stream",
     "text": [
      "TONTO\n"
     ]
    }
   ],
   "source": [
    "a=rsa(codifica(limpiar(\"TONTO\",alfb),alfb),clave_pr,n);\n",
    "print descodifica(decrsa(a,SOL[0],n),alfb,5)"
   ]
  }
 ],
 "metadata": {
  "kernelspec": {
   "display_name": "SageMath 7.3",
   "language": "",
   "name": "sagemath"
  },
  "language_info": {
   "codemirror_mode": {
    "name": "ipython",
    "version": 2
   },
   "file_extension": ".py",
   "mimetype": "text/x-python",
   "name": "python",
   "nbconvert_exporter": "python",
   "pygments_lexer": "ipython2",
   "version": "2.7.10"
  }
 },
 "nbformat": 4,
 "nbformat_minor": 0
}
