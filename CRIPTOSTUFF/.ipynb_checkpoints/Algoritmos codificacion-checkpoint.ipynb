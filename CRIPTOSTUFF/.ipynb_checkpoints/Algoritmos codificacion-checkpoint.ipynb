{
 "cells": [
  {
   "cell_type": "markdown",
   "metadata": {},
   "source": [
    "## Funciones para limpiar un texto y codificarlo.  \n",
    "- Recordatorio la funcion 'ord' da el numero ascii de un caracter mientras que la funcion 'char' da el caracter de un numero ascii"
   ]
  },
  {
   "cell_type": "code",
   "execution_count": null,
   "metadata": {
    "collapsed": true
   },
   "outputs": [],
   "source": [
    "alfb = \"ABCDEFGHIJKLMNOPQRSTUVWXYZ\" #Caracteres permitidos"
   ]
  },
  {
   "cell_type": "code",
   "execution_count": null,
   "metadata": {
    "collapsed": true
   },
   "outputs": [],
   "source": [
    "#Funcion que deja el texto sin puntos, sin espacios, sin signos de puntuacion y todo en mayusculas\n",
    "from string import * ##Hace falta para que funcione join\n",
    "def limpiar(texto,alfb):\n",
    "    '''Dejamos en el texto solo los caracteres de alf. '''\n",
    "    L = [x.capitalize() for x in list(texto)] #Cambiamos el texto a mayusculas\n",
    "    L1 = [car for car in L if car in alfb]\n",
    "    C1 = join(L1,sep = \"\")\n",
    "    return C1"
   ]
  },
  {
   "cell_type": "markdown",
   "metadata": {},
   "source": [
    "<h4>Codificaci&oacute;n m&aacute;s adaptada al tama&ntilde;o del alfabeto</h4>\n",
    "\n",
    "<p>En ocasiones, en lugar de usar la codificaci&oacute;n ASCII queremos codificar los caracteres, suponiendo que tenemos $26$ como en $alfb$,&nbsp; mediante enteros del $0$ al $25$. Para eso debemos redefinr las funciones $ord$ y $chr$:</p>"
   ]
  },
  {
   "cell_type": "code",
   "execution_count": null,
   "metadata": {
    "collapsed": true
   },
   "outputs": [],
   "source": [
    "def ord2(c):\n",
    "    alfb = \"ABCDEFGHIJKLMNOPQRSTUVWXYZ\";\n",
    "    L_alfb = list(alfb);\n",
    "    return L_alfb.index(c);\n",
    "\n",
    "def chr2(n):\n",
    "    alfb = \"ABCDEFGHIJKLMNOPQRSTUVWXYZ\";\n",
    "    L_alfb = list(alfb);\n",
    "    return L_alfb[n]"
   ]
  },
  {
   "cell_type": "markdown",
   "metadata": {},
   "source": [
    "<h4>Una codificaci&oacute;n binaria</h4>\n",
    "<p>Codificamos cada letra mediante un entero entre 0 y 25, y luego cada entero como una palabra de 5 bits.</p>"
   ]
  },
  {
   "cell_type": "markdown",
   "metadata": {},
   "source": [
    "<p>$Digits$ escribe los d&iacute;gitos de izquierda a derecha. Como nos interesa  el orden inverso en la funci&oacute;n $cadena$, cuarta l&iacute;nea,&nbsp; invertimos el  orden.</p>"
   ]
  },
  {
   "cell_type": "markdown",
   "metadata": {},
   "source": [
    "numero.digits(base=a, padto=x)"
   ]
  },
  {
   "cell_type": "code",
   "execution_count": null,
   "metadata": {
    "collapsed": true
   },
   "outputs": [],
   "source": [
    "def cadena(L):\n",
    "    '''Convertimos una lista en cadena de caracteres'''\n",
    "    C = ''\n",
    "    L.reverse()\n",
    "    for item in L:\n",
    "        C = C+str(item)\n",
    "    return C;\n",
    "\n",
    "def bin_2(n):\n",
    "    '''Dado un entero <32 lo convertimos en una cadena de 5 bits'''\n",
    "    return cadena(ZZ(n).digits(base=2,padto=5))"
   ]
  },
  {
   "cell_type": "markdown",
   "metadata": {},
   "source": [
    "- La funcion join te junta los elementos de una lista y los separa con el separador dado join(L,sep=' ');"
   ]
  },
  {
   "cell_type": "code",
   "execution_count": 4,
   "metadata": {
    "collapsed": false
   },
   "outputs": [],
   "source": [
    "#Funcion que codifica\n",
    "def cod(texto):\n",
    "    L = map(ord2,list(texto))\n",
    "    L1 = map(bin_2,L)\n",
    "    return join(L1,sep='')\n",
    "#Funcion que decodifica\n",
    "def descod(C):\n",
    "    C1 = ''\n",
    "    while C != '':\n",
    "        C1 = C1+chr2(ZZ(C[:5],base=2))\n",
    "        C = C[5:]\n",
    "    return C1"
   ]
  }
 ],
 "metadata": {
  "kernelspec": {
   "display_name": "SageMath 7.3",
   "language": "",
   "name": "sagemath"
  },
  "language_info": {
   "codemirror_mode": {
    "name": "ipython",
    "version": 2
   },
   "file_extension": ".py",
   "mimetype": "text/x-python",
   "name": "python",
   "nbconvert_exporter": "python",
   "pygments_lexer": "ipython2",
   "version": "2.7.10"
  }
 },
 "nbformat": 4,
 "nbformat_minor": 0
}
