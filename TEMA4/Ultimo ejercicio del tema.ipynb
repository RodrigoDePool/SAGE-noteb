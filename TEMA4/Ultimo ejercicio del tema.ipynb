{
 "cells": [
  {
   "cell_type": "markdown",
   "metadata": {},
   "source": [
    "Define recursivamente una funcion que compruebe de 1 a N que se cumple la formula 4.1 del tema."
   ]
  },
  {
   "cell_type": "code",
   "execution_count": 9,
   "metadata": {
    "collapsed": false
   },
   "outputs": [],
   "source": [
    "#Funcion que devuelve el resultado de la formula\n",
    "def formula(x):\n",
    "    return x*(x+1)*(2*x+1)/6;\n",
    "#Funcion que devuelve el resultado de la suma de los primeros x cuadrados\n",
    "def suma_cuadrados(x):\n",
    "    sum=0;\n",
    "    for i in srange(1,x+1):\n",
    "        sum=sum+i^2;\n",
    "    return sum;\n",
    "#Funcion recursiva que comprueba que la formula se cumple hasta un x dado\n",
    "def comprueba(x):\n",
    "    if(x==1):\n",
    "        return true;\n",
    "    if(formula(x)==suma_cuadrados(x)):\n",
    "        return comprueba(x-1);\n",
    "    return false;"
   ]
  },
  {
   "cell_type": "code",
   "execution_count": 10,
   "metadata": {
    "collapsed": false
   },
   "outputs": [
    {
     "name": "stdout",
     "output_type": "stream",
     "text": [
      "True\n"
     ]
    }
   ],
   "source": [
    "print comprueba(10);"
   ]
  }
 ],
 "metadata": {
  "kernelspec": {
   "display_name": "SageMath 7.3",
   "language": "",
   "name": "sagemath"
  },
  "language_info": {
   "codemirror_mode": {
    "name": "ipython",
    "version": 2
   },
   "file_extension": ".py",
   "mimetype": "text/x-python",
   "name": "python",
   "nbconvert_exporter": "python",
   "pygments_lexer": "ipython2",
   "version": "2.7.10"
  }
 },
 "nbformat": 4,
 "nbformat_minor": 0
}
