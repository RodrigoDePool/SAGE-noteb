{
 "cells": [
  {
   "cell_type": "code",
   "execution_count": null,
   "metadata": {
    "collapsed": true
   },
   "outputs": [],
   "source": [
    "Repaso de lenguaje : Conjuntos"
   ]
  },
  {
   "cell_type": "code",
   "execution_count": 42,
   "metadata": {
    "collapsed": false
   },
   "outputs": [
    {
     "name": "stdout",
     "output_type": "stream",
     "text": [
      "['A', 'C', 'D', 'E', 'G', 'H', 'I', 'L', 'M', 'O', 'Q', 'R', 'S', 'T', 'U', 'Y']\n"
     ]
    }
   ],
   "source": [
    "#Ejercicio 5\n",
    "aux='Hola como estas , hasta luego. Hay que estudiar.'\n",
    "texto=aux.upper();#te devuelve la string toda en mayuscula para eliminar\n",
    "                  #ambiguedad mayuscula-minuscula\n",
    "conjunto=set();\n",
    "for i in range(len(texto)):\n",
    "    if(texto[i]!='.' and texto[i]!=',' and texto[i]!=' '):\n",
    "        conjunto.add(texto[i]);\n",
    "L=list(conjunto);\n",
    "L.sort();\n",
    "print L;"
   ]
  },
  {
   "cell_type": "code",
   "execution_count": 57,
   "metadata": {
    "collapsed": false
   },
   "outputs": [],
   "source": [
    "### Ejercicio 6\n",
    "#devuelve un conjunto  con los divisores de a\n",
    "def divisores(a):\n",
    "    div=set();\n",
    "    for i in range(1,a/2+1):\n",
    "        if(a%i==0):\n",
    "            div.add(i);\n",
    "    return div;\n",
    "#funcion que devuelve un conjunto con los divisores comunes de dos numeros \n",
    "#a,b\n",
    "def div_com(a,b):\n",
    "    return divisores(a)&divisores(b);\n",
    "#maximo comun divisor\n",
    "def mcd(a,b):\n",
    "    if(b>a):\n",
    "        return mcd(b,a);\n",
    "    c=a%b;\n",
    "    if(c==0):\n",
    "        return b;\n",
    "    return mcd(b,c);\n",
    "#Otra forma de hacerlo seria ir buscando numeros menores que a y quedarse \n",
    "#el numero menor que a, mas grande que cumpla que esta en el conjunto\n"
   ]
  },
  {
   "cell_type": "code",
   "execution_count": 58,
   "metadata": {
    "collapsed": false
   },
   "outputs": [],
   "source": [
    "#Ejercicio 7\n",
    "#Dado a y b, devuelve los multiplos de a menores que a*b\n",
    "def multis(a,b):\n",
    "    mult=set();\n",
    "    for i in range(b):\n",
    "        mult.add(a*i);\n",
    "    return mult;\n",
    "#mutiplos comunes menores que a*b\n",
    "def mults_comunes(a,b):\n",
    "    return multis(a,b)&multis(b,a);\n",
    "#Maximo multiplo comun menor que a*b, devuelve -1 si no tienen.\n",
    "def max_mult(a,b):\n",
    "    conj=mults_comunes(a,b);\n",
    "    aux=-1\n",
    "    for i in range(a,a*b):\n",
    "        if(i in conj):\n",
    "            aux=i;\n",
    "    return aux;"
   ]
  },
  {
   "cell_type": "code",
   "execution_count": 61,
   "metadata": {
    "collapsed": false
   },
   "outputs": [
    {
     "name": "stdout",
     "output_type": "stream",
     "text": [
      "2\n"
     ]
    }
   ],
   "source": [
    "#Ejercicio 8\n",
    "def factores(L):\n",
    "    "
   ]
  },
  {
   "cell_type": "code",
   "execution_count": 64,
   "metadata": {
    "collapsed": false
   },
   "outputs": [],
   "source": [
    "#Funcion que te devuelve un conjunto de factores primos de x\n",
    "def factores(x):\n",
    "    fac=set();\n",
    "    L=list(x.factor()) # lista con los factores de x (Ver Tema 3 para mas info)\n",
    "    for (a,b) in L:\n",
    "        fac.add(a);\n",
    "    return fac;\n",
    "#Funcion que te devuelve un conjunto de todos los factores primos \n",
    "# de los numeros de una lista\n",
    "def lista_factores(L):\n",
    "    facts=set();\n",
    "    for i in srange(len(L)):\n",
    "        facts=facts|factores(L[i]);\n",
    "    return facts;"
   ]
  }
 ],
 "metadata": {
  "kernelspec": {
   "display_name": "SageMath 7.3",
   "language": "",
   "name": "sagemath"
  },
  "language_info": {
   "codemirror_mode": {
    "name": "ipython",
    "version": 2
   },
   "file_extension": ".py",
   "mimetype": "text/x-python",
   "name": "python",
   "nbconvert_exporter": "python",
   "pygments_lexer": "ipython2",
   "version": "2.7.10"
  }
 },
 "nbformat": 4,
 "nbformat_minor": 0
}
