{
 "cells": [
  {
   "cell_type": "markdown",
   "metadata": {},
   "source": [
    "Ejercicios de lenguaje:"
   ]
  },
  {
   "cell_type": "code",
   "execution_count": 15,
   "metadata": {
    "collapsed": false
   },
   "outputs": [
    {
     "name": "stdout",
     "output_type": "stream",
     "text": [
      "249\n"
     ]
    }
   ],
   "source": [
    "#Ejercicio 3\n",
    "#primer apartado\n",
    "n=factorial(1000);\n",
    "s=str(n);\n",
    "l=len(s)-1; #posicion del ultimo digito de n\n",
    "cont=0;\n",
    "while s[l]=='0':#comparamos con el caracter 0\n",
    "    cont=cont+1;\n",
    "    l=l-1;\n",
    "print cont;\n"
   ]
  },
  {
   "cell_type": "code",
   "execution_count": 2,
   "metadata": {
    "collapsed": false
   },
   "outputs": [
    {
     "name": "stdout",
     "output_type": "stream",
     "text": [
      "[123, 383]\n"
     ]
    }
   ],
   "source": [
    "#Ejercicio 3 \n",
    "#segundo apartado\n",
    "n=factorial(1000);\n",
    "s=str(n);\n",
    "L=[];\n",
    "aux=0;\n",
    "while(aux!=-1):\n",
    "    aux=s.find('666',aux);\n",
    "    if(aux!=-1):\n",
    "        L=L+[aux];\n",
    "        aux=aux+3;#nos saltamos las posiciones donde ya sabemos que hay 666\n",
    "print L;\n"
   ]
  },
  {
   "cell_type": "code",
   "execution_count": 1,
   "metadata": {
    "collapsed": false
   },
   "outputs": [
    {
     "name": "stdout",
     "output_type": "stream",
     "text": [
      "-1\n"
     ]
    }
   ],
   "source": [
    "#Ejericio 3\n",
    "#tercer apartado\n",
    "\n",
    "n=factorial(1000);\n",
    "s=str(n);\n",
    "tam=1;\n",
    "aux=0;\n",
    "while(aux!=-1):\n",
    "    aux=s.find()"
   ]
  },
  {
   "cell_type": "code",
   "execution_count": null,
   "metadata": {
    "collapsed": true
   },
   "outputs": [],
   "source": []
  }
 ],
 "metadata": {
  "kernelspec": {
   "display_name": "SageMath 7.3",
   "language": "",
   "name": "sagemath"
  },
  "language_info": {
   "codemirror_mode": {
    "name": "ipython",
    "version": 2
   },
   "file_extension": ".py",
   "mimetype": "text/x-python",
   "name": "python",
   "nbconvert_exporter": "python",
   "pygments_lexer": "ipython2",
   "version": "2.7.10"
  }
 },
 "nbformat": 4,
 "nbformat_minor": 0
}
