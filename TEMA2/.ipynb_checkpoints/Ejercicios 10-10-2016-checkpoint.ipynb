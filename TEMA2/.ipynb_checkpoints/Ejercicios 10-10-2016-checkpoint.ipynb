{
 "cells": [
  {
   "cell_type": "markdown",
   "metadata": {},
   "source": [
    "EJERCICIO 1:\n",
    "Condición necesaria y suficiente sobre n para que 1+2+3+4+5+...+n divida a \n",
    "n!."
   ]
  },
  {
   "cell_type": "markdown",
   "metadata": {},
   "source": [
    "Sabemos que 1+2+3+...+n= n*(n+1)/2, entonces es fácil ver que existe una equivalencia entre lo que queremos probar y que n!*2/(n*(n+1)) sea entero.\n",
    "Esto es equivalente a probar que (n-1)!*2/(n+1) es entero. Probemos varios valores a ver si conseguimos alguna relación."
   ]
  },
  {
   "cell_type": "code",
   "execution_count": 2,
   "metadata": {
    "collapsed": false
   },
   "outputs": [],
   "source": [
    "f(n)=((n-1).factorial())*2/(n+1);"
   ]
  },
  {
   "cell_type": "code",
   "execution_count": 28,
   "metadata": {
    "collapsed": false
   },
   "outputs": [
    {
     "name": "stdout",
     "output_type": "stream",
     "text": [
      "(20325889640780924033433600000, 29)\n",
      "(21777738900836704321536000000/29, 28)\n",
      "(28806532937614688256000000, 27)\n",
      "(1148978521728221184000000, 26)\n",
      "(47726800133326110720000, 25)\n",
      "(2068161339110798131200, 24)\n",
      "(93666727314800640000, 23)\n",
      "(102181884343418880000/23, 22)\n",
      "(221172909834240000, 21)\n",
      "(11585247657984000, 20)\n",
      "(640237370572800, 19)\n",
      "(711374856192000/19, 18)\n",
      "(2324754432000, 17)\n",
      "(2615348736000/17, 16)\n",
      "(10897286400, 15)\n",
      "(830269440, 14)\n",
      "(68428800, 13)\n",
      "(79833600/13, 12)\n",
      "(604800, 11)\n",
      "(725760/11, 10)\n",
      "(8064, 9)\n",
      "(1120, 8)\n",
      "(180, 7)\n",
      "(240/7, 6)\n",
      "(8, 5)\n",
      "(12/5, 4)\n",
      "(1, 3)\n",
      "(2/3, 2)\n",
      "(1, 1)\n"
     ]
    }
   ],
   "source": [
    "L=[(f(x),x) for x in srange(1,30)];\n",
    "while len(L)>0:\n",
    "    a=L.pop();\n",
    "    print a;"
   ]
  },
  {
   "cell_type": "markdown",
   "metadata": {},
   "source": [
    "Una cosa parece estar clara, si el numero es primo entonces la la funcion f(n) es un entero. Sin embargo, parece haber otros números no primos que también lo cumplen.\n",
    "Limitémosnos a estudiar el caso de los primos:\n",
    "Analizando un poco la expresión (n-1)*(n-2)*...*1*(2)/(n+1) nos damos cuenta que es necesario que n+1 no sea primo. Ya que si lo fuera sabemos que ese número no podría expresarse como múltiplo de número más pequeños que el, lo que implicaría que el productorio del numerador no sería múltiplo de n+1 y, por tanto, n+1 no divide al numerado y el número no sería entero.\n",
    "Tenemos: El numero es entero => n+1 no es primo\n",
    "Intentemos ver la igualdad:\n"
   ]
  },
  {
   "cell_type": "raw",
   "metadata": {},
   "source": [
    "Primero probemos varios casos de nuestra conjetura: "
   ]
  },
  {
   "cell_type": "code",
   "execution_count": 30,
   "metadata": {
    "collapsed": false
   },
   "outputs": [
    {
     "name": "stdout",
     "output_type": "stream",
     "text": [
      "[1, 8, 180, 1120, 8064, 604800, 68428800, 830269440, 10897286400, 2324754432000, 640237370572800, 11585247657984000, 221172909834240000, 93666727314800640000, 2068161339110798131200, 47726800133326110720000, 1148978521728221184000000, 28806532937614688256000000, 20325889640780924033433600000, 16578303738261941164769280000000, 498353857828965019256094720000000, 15478284525511384127483412480000000, 496189578217822085458182537216000000, 16401822168866896713756589424640000000, 19578596146836906182526286744780800000000, 705833491857761284426460491363123200000000, 26151130873330055588000361205003714560000000, 38853108726090368302171965218862661632000000000, 63863914443312722661051936647477798633472000000000, 2685122802816614917215783647489511000322867200000000, 115577024990802120349722861348461560448679936000000000, 229275923325503706243762726200010620540068823040000000000, 10556050673925231862978136945045386937518270709760000000000, 496556623701442906834491561894935001540859454187110400000000]\n"
     ]
    }
   ],
   "source": [
    "#Lista de f(x) donde x+1 no es primo\n",
    "L=[f(x) for x in srange (1,50) if not((x+1).is_prime())]\n",
    "print L;"
   ]
  },
  {
   "cell_type": "markdown",
   "metadata": {},
   "source": [
    "Efectivamente parece que la conjetura es correcta. Intetemos probarla:\n",
    "Primero veamos un pequeño lema:\n",
    "Podemos probar fácilmente por inducción que para n>2 se cumple:\n",
    "n < (n-1)*k para cualquier k natural mayor que 1. \n",
    "(basta con  probarlo para k=2)\n",
    "\n",
    "Dicho esto sabemos que n+1 no puede ser un múltiplo de n, sabemos entonces que si n+1 no es primo será múltiplo de números estrictamente menores que n. Con esto damos por terminada la demostración ya que en el numerador de nuestra división tenemos todos los numeros en el rango de n-1 a 1 y sabemos que nuestro denominador es múltiplo de estos números, lo que implica que la expresón resulta en un número entero. :)"
   ]
  },
  {
   "cell_type": "markdown",
   "metadata": {},
   "source": []
  },
  {
   "cell_type": "markdown",
   "metadata": {},
   "source": []
  },
  {
   "cell_type": "markdown",
   "metadata": {},
   "source": [
    "EJERCICIO 2:\n",
    "Encontrar la condición necesaria y suficiente para que existan infinitos múltiplos de un entero n que se escriban solo con 1 en base 10."
   ]
  },
  {
   "cell_type": "markdown",
   "metadata": {},
   "source": [
    "Intentemos buscar algunos posibles candidatos de n para hacernos una idea."
   ]
  },
  {
   "cell_type": "code",
   "execution_count": 22,
   "metadata": {
    "collapsed": false
   },
   "outputs": [],
   "source": [
    "#funcion que pruba si un número es de la forma \"111...1111\"\n",
    "#devuelve true si el numero no ha podido ser probado o si comprueba\n",
    "#la condicion. Devuelve false si no comprueba la condicion\n",
    "def form_111(x):\n",
    "    a='1111111111111111111111111111111111111111111111111111111111111111111';\n",
    "    if(x>int(a)):\n",
    "        return true;\n",
    "    if(str(x) in a):\n",
    "        return true;\n",
    "    return false;"
   ]
  },
  {
   "cell_type": "code",
   "execution_count": 23,
   "metadata": {
    "collapsed": true
   },
   "outputs": [],
   "source": [
    "#funcion que prueba si en los primeros 10^6 de multiplos de x\n",
    "#cumple que tiene al menos 'y' multiplos que son de la \n",
    "#forma 111..111, solo sirve para numeros relativamente pequenos \n",
    "#devuelve true o false si ha cumplido o no la condicion\n",
    "def mults_form_111(x,y):\n",
    "    cont=0;\n",
    "    for i in range (1,10^5+1):\n",
    "        if(form_111(x*i)==true):\n",
    "            cont=cont+1;    \n",
    "        if(cont>=y):\n",
    "            return true;\n",
    "    return false;"
   ]
  },
  {
   "cell_type": "code",
   "execution_count": 31,
   "metadata": {
    "collapsed": false
   },
   "outputs": [
    {
     "name": "stdout",
     "output_type": "stream",
     "text": [
      "[1, 3, 11, 37]\n"
     ]
    }
   ],
   "source": [
    "#creamos una lista con numeros entre 1 y 100 que tengan al menos \n",
    "#n multiplos de la forma 111...111\n",
    "n=2;\n",
    "L=[x for x in srange(1,101) if mults_form_111(x,n)==true];\n",
    "print L;"
   ]
  },
  {
   "cell_type": "markdown",
   "metadata": {},
   "source": [
    "TOMA DEMASIADO TIEMPO Y NO SE COMO HACERLO :)"
   ]
  },
  {
   "cell_type": "markdown",
   "metadata": {},
   "source": []
  },
  {
   "cell_type": "markdown",
   "metadata": {},
   "source": [
    "EJERCICIO 3:\n",
    "Numeros que puedan ser cifra dominante a la vez de 2^n y 5^n con n igual. Demostrar que estos son los únicos posibles."
   ]
  },
  {
   "cell_type": "code",
   "execution_count": 16,
   "metadata": {
    "collapsed": false
   },
   "outputs": [
    {
     "name": "stdout",
     "output_type": "stream",
     "text": [
      "['3', '3', '3', '3', '3', '3', '3', '3', '3', '3', '3', '3', '3', '3', '3', '3', '3', '3', '3', '3', '3', '3', '3', '3', '3', '3', '3', '3', '3', '3', '3', '3', '3', '3', '3', '3', '3', '3', '3', '3', '3', '3', '3', '3', '3', '3']\n"
     ]
    }
   ],
   "source": [
    "#Funcion que me da la cifra dominante de un numero\n",
    "def dominante(x):\n",
    "    s=str(x);\n",
    "    return s[0];\n",
    "#comprueba si dos numeros tienen la misma cifra dominante\n",
    "#devuelve un booleano\n",
    "def comp_dominante(x,y):\n",
    "    if(dominante(x)==dominante(y)):\n",
    "        return true;\n",
    "    return false;\n",
    "#lista de cifras dominantes iguales para n de 1 a 1000\n",
    "L=[dominante(2^x) for x in srange(1,1001) if comp_dominante(2^x,5^x)==true]\n",
    "print L;"
   ]
  },
  {
   "cell_type": "markdown",
   "metadata": {},
   "source": [
    "Se evidencia claramente que la cifra dominante es 3.\n",
    "La demostracion no tengo ni idea de como hacerla :)\n"
   ]
  },
  {
   "cell_type": "markdown",
   "metadata": {},
   "source": []
  },
  {
   "cell_type": "markdown",
   "metadata": {},
   "source": []
  },
  {
   "cell_type": "markdown",
   "metadata": {},
   "source": [
    "EJERCICIO 4:\n",
    "n>1 n^4+1 es compuesto.\n",
    "Esta claro para los n pares, faltaria ver los impares."
   ]
  },
  {
   "cell_type": "markdown",
   "metadata": {},
   "source": [
    "Intentemos ver sus factores:"
   ]
  },
  {
   "cell_type": "code",
   "execution_count": 32,
   "metadata": {
    "collapsed": false
   },
   "outputs": [
    {
     "name": "stdout",
     "output_type": "stream",
     "text": [
      "[(2, 2^2 * 5), (3, 5 * 17), (4, 2^2 * 5 * 13), (5, 17 * 37), (6, 2^2 * 5^2 * 13), (7, 5 * 13 * 37), (8, 2^2 * 5^2 * 41), (9, 5 * 13 * 101), (10, 2^2 * 41 * 61), (11, 5 * 29 * 101), (12, 2^2 * 5 * 17 * 61), (13, 5 * 29 * 197), (14, 2^2 * 5 * 17 * 113), (15, 197 * 257), (16, 2^2 * 5 * 29 * 113), (17, 5^2 * 13 * 257), (18, 2^2 * 5 * 29 * 181), (19, 5^2 * 13 * 401), (20, 2^2 * 13 * 17 * 181), (21, 5 * 97 * 401), (22, 2^2 * 5 * 13 * 17 * 53), (23, 5 * 97 * 577), (24, 2^2 * 5 * 53 * 313), (25, 577 * 677), (26, 2^2 * 5 * 73 * 313), (27, 5 * 157 * 677), (28, 2^2 * 5 * 73 * 421), (29, 5 * 17 * 53 * 157), (30, 2^2 * 13 * 37 * 421), (31, 5^2 * 17 * 41 * 53), (32, 2^2 * 5 * 13 * 37 * 109), (33, 5^2 * 13 * 41 * 89), (34, 2^2 * 5 * 109 * 613), (35, 13 * 89 * 1297), (36, 2^2 * 5 * 137 * 613), (37, 5 * 17^2 * 1297), (38, 2^2 * 5 * 137 * 761), (39, 5 * 17^2 * 1601), (40, 2^2 * 29^2 * 761), (41, 5 * 353 * 1601), (42, 2^2 * 5^2 * 29^2 * 37), (43, 5 * 13 * 149 * 353), (44, 2^2 * 5^2 * 37 * 1013), (45, 13 * 29 * 73 * 149), (46, 2^2 * 5 * 13 * 17 * 1013), (47, 5 * 29 * 73 * 461), (48, 2^2 * 5 * 13 * 17 * 1201), (49, 5 * 41 * 61 * 461), (50, 2^2 * 1201 * 1301), (51, 5 * 41 * 61 * 541), (52, 2^2 * 5 * 281 * 1301), (53, 5 * 541 * 2917), (54, 2^2 * 5 * 17 * 89 * 281), (55, 2917 * 3137), (56, 2^2 * 5^3 * 13 * 17 * 89), (57, 5 * 673 * 3137), (58, 2^2 * 5^3 * 13 * 1741), (59, 5 * 13 * 277 * 673), (60, 2^2 * 1741 * 1861), (61, 5 * 13 * 277 * 769), (62, 2^2 * 5 * 397 * 1861), (63, 5 * 17 * 241 * 769), (64, 2^2 * 5 * 397 * 2113), (65, 17 * 241 * 4357), (66, 2^2 * 5 * 449 * 2113), (67, 5^3 * 37 * 4357), (68, 2^2 * 5 * 449 * 2381), (69, 5^3 * 13^2 * 29 * 37), (70, 2^2 * 2381 * 2521), (71, 5 * 13^2 * 17 * 29 * 61), (72, 2^2 * 5 * 13 * 41 * 2521), (73, 5 * 17 * 61 * 5477), (74, 2^2 * 5 * 13 * 29 * 41 * 97), (75, 53 * 109 * 5477), (76, 2^2 * 5 * 29 * 97 * 593), (77, 5 * 53 * 109 * 1217), (78, 2^2 * 5 * 593 * 3121), (79, 5 * 37 * 173 * 1217), (80, 2^2 * 17 * 193 * 3121), (81, 5^2 * 37 * 173 * 269), (82, 2^2 * 5 * 13 * 17 * 53 * 193), (83, 5^2 * 269 * 7057), (84, 2^2 * 5 * 13 * 53 * 3613), (85, 13 * 569 * 7057), (86, 2^2 * 5 * 757 * 3613), (87, 5 * 13 * 569 * 1549), (88, 2^2 * 5 * 17 * 233 * 757), (89, 5 * 1549 * 8101), (90, 2^2 * 17 * 41 * 101 * 233), (91, 5 * 1693 * 8101), (92, 2^2 * 5^2 * 41 * 101 * 173), (93, 5 * 1693 * 8837), (94, 2^2 * 5^2 * 173 * 4513), (95, 13 * 709 * 8837), (96, 2^2 * 5 * 941 * 4513), (97, 5 * 13 * 17 * 113 * 709), (98, 2^2 * 5 * 13^2 * 29 * 941), (99, 5 * 17 * 73 * 113 * 137), (100, 2^2 * 13^2 * 29 * 5101), (101, 5 * 73 * 137 * 2081), (102, 2^2 * 5 * 1061 * 5101), (103, 5 * 29 * 373 * 2081), (104, 2^2 * 5 * 37 * 149 * 1061), (105, 17 * 29 * 373 * 661), (106, 2^2 * 5^2 * 37 * 149 * 229), (107, 5 * 17 * 661 * 2333), (108, 2^2 * 5^2 * 13 * 229 * 457), (109, 5 * 2333 * 12101), (110, 2^2 * 13 * 61 * 101 * 457), (111, 5 * 13 * 193 * 12101), (112, 2^2 * 5 * 61 * 101 * 1277), (113, 5 * 13 * 41 * 193 * 317), (114, 2^2 * 5 * 17 * 389 * 1277), (115, 41 * 317 * 13457), (116, 2^2 * 5 * 17 * 37^2 * 389), (117, 5^2 * 557 * 13457), (118, 2^2 * 5 * 37^2 * 73 * 97), (119, 5^2 * 557 * 14401), (120, 2^2 * 73 * 97 * 7321), (121, 5 * 13 * 229 * 14401), (122, 2^2 * 5 * 17 * 89 * 7321), (123, 5 * 13 * 229 * 15377), (124, 2^2 * 5 * 13 * 17 * 89 * 601), (125, 15377 * 15877), (126, 2^2 * 5 * 13 * 601 * 1613), (127, 5 * 29 * 113 * 15877), (128, 2^2 * 5 * 53 * 157 * 1613), (129, 5 * 29 * 113 * 16901), (130, 2^2 * 53 * 157 * 8581), (131, 5^2 * 17 * 41 * 16901), (132, 2^2 * 5 * 29 * 61 * 8581), (133, 5^2 * 17 * 41 * 17957), (134, 2^2 * 5 * 13 * 29 * 61 * 701), (135, 53 * 349 * 17957), (136, 2^2 * 5 * 13 * 701 * 1877), (137, 5 * 13 * 53 * 293 * 349), (138, 2^2 * 5 * 1877 * 9661), (139, 5 * 13 * 17 * 293 * 1153), (140, 2^2 * 9661 * 9941), (141, 5 * 17 * 37 * 109 * 1153), (142, 2^2 * 5^2 * 409 * 9941), (143, 5 * 37 * 89 * 109 * 233), (144, 2^2 * 5^2 * 409 * 10513), (145, 89 * 233 * 21317), (146, 2^2 * 5 * 2161 * 10513), (147, 5 * 13 * 337 * 21317), (148, 2^2 * 5 * 17 * 653 * 2161), (149, 5 * 13 * 337 * 22501), (150, 2^2 * 13 * 17 * 653 * 877), (151, 5 * 4621 * 22501), (152, 2^2 * 5 * 13 * 877 * 2341), (153, 5 * 37 * 641 * 4621), (154, 2^2 * 5 * 41 * 293 * 2341), (155, 37 * 641 * 24337), (156, 2^2 * 5^2 * 17 * 29 * 41 * 293), (157, 5 * 4993 * 24337), (158, 2^2 * 5^2 * 17 * 29 * 12641), (159, 5 * 4993 * 25601), (160, 2^2 * 13 * 997 * 12641), (161, 5 * 29 * 181 * 25601), (162, 2^2 * 5 * 13 * 997 * 2657), (163, 5 * 13 * 29 * 181 * 2069), (164, 2^2 * 5 * 2657 * 13613), (165, 13 * 17 * 1621 * 2069), (166, 2^2 * 5 * 2789 * 13613), (167, 5^2 * 17 * 1129 * 1621), (168, 2^2 * 5 * 2789 * 14281), (169, 5^2 * 1129 * 28901), (170, 2^2 * 14281 * 14621), (171, 5 * 61 * 97 * 28901), (172, 2^2 * 5 * 41 * 73 * 14621), (173, 5 * 13 * 17 * 61 * 97 * 137), (174, 2^2 * 5 * 41 * 73 * 15313), (175, 13 * 17 * 137 * 30977), (176, 2^2 * 5 * 13 * 241 * 15313), (177, 5 * 6337 * 30977), (178, 2^2 * 5 * 13 * 37 * 241 * 433), (179, 5 * 6337 * 32401), (180, 2^2 * 37 * 433 * 16381), (181, 5^4 * 53 * 32401), (182, 2^2 * 5 * 17 * 197 * 16381), (183, 5^4 * 53 * 33857), (184, 2^2 * 5 * 17 * 109 * 157 * 197), (185, 29 * 1193 * 33857), (186, 2^2 * 5 * 13 * 109 * 157 * 269), (187, 5 * 29 * 1193 * 7069), (188, 2^2 * 5 * 13 * 53 * 269 * 337), (189, 5 * 13 * 2777 * 7069), (190, 2^2 * 17 * 29 * 37 * 53 * 337), (191, 5 * 13 * 73 * 101 * 2777), (192, 2^2 * 5^3 * 17 * 29 * 37 * 149), (193, 5 * 61 * 73 * 101 * 617), (194, 2^2 * 5^3 * 149 * 19013), (195, 41 * 61 * 617 * 937), (196, 2^2 * 5 * 3881 * 19013), (197, 5 * 41 * 937 * 7841), (198, 2^2 * 5 * 3881 * 19801), (199, 5 * 13 * 17 * 181 * 7841)]\n"
     ]
    }
   ],
   "source": [
    "L=[(x,(x^4+4).factor()) for x in srange(2,200) ];\n",
    "print L;"
   ]
  },
  {
   "cell_type": "markdown",
   "metadata": {},
   "source": []
  },
  {
   "cell_type": "code",
   "execution_count": null,
   "metadata": {
    "collapsed": true
   },
   "outputs": [],
   "source": []
  },
  {
   "cell_type": "code",
   "execution_count": null,
   "metadata": {
    "collapsed": true
   },
   "outputs": [],
   "source": []
  },
  {
   "cell_type": "code",
   "execution_count": null,
   "metadata": {
    "collapsed": true
   },
   "outputs": [],
   "source": []
  },
  {
   "cell_type": "code",
   "execution_count": null,
   "metadata": {
    "collapsed": true
   },
   "outputs": [],
   "source": []
  },
  {
   "cell_type": "code",
   "execution_count": null,
   "metadata": {
    "collapsed": true
   },
   "outputs": [],
   "source": []
  }
 ],
 "metadata": {
  "kernelspec": {
   "display_name": "SageMath 7.3",
   "language": "",
   "name": "sagemath"
  },
  "language_info": {
   "codemirror_mode": {
    "name": "ipython",
    "version": 2
   },
   "file_extension": ".py",
   "mimetype": "text/x-python",
   "name": "python",
   "nbconvert_exporter": "python",
   "pygments_lexer": "ipython2",
   "version": "2.7.10"
  }
 },
 "nbformat": 4,
 "nbformat_minor": 0
}
